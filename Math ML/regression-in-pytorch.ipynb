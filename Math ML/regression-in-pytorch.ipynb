{
 "cells": [
  {
   "cell_type": "markdown",
   "metadata": {
    "colab_type": "text",
    "id": "view-in-github"
   },
   "source": [
    "<a href=\"https://colab.research.google.com/github/jonkrohn/ML-foundations/blob/master/notebooks/regression-in-pytorch.ipynb\" target=\"_parent\"><img src=\"https://colab.research.google.com/assets/colab-badge.svg\" alt=\"Open In Colab\"/></a>"
   ]
  },
  {
   "cell_type": "markdown",
   "metadata": {
    "id": "oIX4xnrwiFZX"
   },
   "source": [
    "# Regression in PyTorch"
   ]
  },
  {
   "cell_type": "markdown",
   "metadata": {
    "id": "XZJhl8MciFZY"
   },
   "source": [
    "In this notebook, we use the PyTorch **automatic differentiation** library to fit a straight line to data points. Thus, here we use calculus to solve the same regression problem that we used the Moore-Penrose Pseudoinverse to solve in the [*Linear Algebra II* notebook](https://github.com/jonkrohn/ML-foundations/blob/master/notebooks/2-linear-algebra-ii.ipynb)."
   ]
  },
  {
   "cell_type": "code",
   "execution_count": 69,
   "metadata": {
    "id": "SdljCv4y09g-"
   },
   "outputs": [],
   "source": [
    "import torch\n",
    "import matplotlib.pyplot as plt"
   ]
  },
  {
   "cell_type": "code",
   "execution_count": 70,
   "metadata": {
    "colab": {
     "base_uri": "https://localhost:8080/"
    },
    "id": "RHG-NNVF09g_",
    "outputId": "441fd4cc-1d12-4e4d-a2ab-669bd9654ba0"
   },
   "outputs": [
    {
     "data": {
      "text/plain": [
       "tensor([0., 1., 2., 3., 4., 5., 6., 7.])"
      ]
     },
     "execution_count": 70,
     "metadata": {},
     "output_type": "execute_result"
    }
   ],
   "source": [
    "x = torch.tensor([0, 1, 2, 3, 4, 5, 6, 7.]) # E.g.: Dosage of drug for treating Alzheimer's disease\n",
    "x"
   ]
  },
  {
   "cell_type": "markdown",
   "metadata": {
    "id": "kbPWO45yiFZi"
   },
   "source": [
    "The $y$ values were created using the equation of a line $y = mx + b$. This way, we know what the model parameters to be learned are, say, $m = -0.5$ and $b = 2$. Random, normally-distributed noise has been added to simulate sampling error: "
   ]
  },
  {
   "cell_type": "code",
   "execution_count": 71,
   "metadata": {
    "id": "R6Z0z32d09hA"
   },
   "outputs": [],
   "source": [
    "#y = -0.5*x + 2 + torch.normal(mean=torch.zeros(8), std=0.2) \n",
    "#mean=torch.zeros(8) we set to zero so our noise is distributed normally around\n",
    "#std=0.2 how much noise do we want. if we make larger we get more noise\n",
    "#we will not run this code because we want to use hard coded fixed y values underneath"
   ]
  },
  {
   "cell_type": "markdown",
   "metadata": {
    "id": "jW-52Td409hA"
   },
   "source": [
    "For reproducibility of this demo, here's a fixed example of $y$ values obtained by running the commented-out line above: "
   ]
  },
  {
   "cell_type": "code",
   "execution_count": 72,
   "metadata": {
    "colab": {
     "base_uri": "https://localhost:8080/"
    },
    "id": "mntwNZyB09hA",
    "outputId": "993dc960-863a-4e86-e0ee-b5285d636814"
   },
   "outputs": [
    {
     "data": {
      "text/plain": [
       "tensor([ 1.8600,  1.3100,  0.6200,  0.3300,  0.0900, -0.6700, -1.2300, -1.3700])"
      ]
     },
     "execution_count": 72,
     "metadata": {},
     "output_type": "execute_result"
    }
   ],
   "source": [
    "y = torch.tensor([1.86, 1.31, .62, .33, .09, -.67, -1.23, -1.37]) # E.g.: Patient's \"forgetfulness score\"\n",
    "y"
   ]
  },
  {
   "cell_type": "code",
   "execution_count": 73,
   "metadata": {
    "colab": {
     "base_uri": "https://localhost:8080/",
     "height": 295
    },
    "id": "poVitT8409hA",
    "outputId": "8f51a69f-66af-445d-b269-f4022a6c7c8a"
   },
   "outputs": [
    {
     "data": {
      "image/png": "[encoded data removed]",
      "text/plain": [
       "<Figure size 640x480 with 1 Axes>"
      ]
     },
     "metadata": {},
     "output_type": "display_data"
    }
   ],
   "source": [
    "fig, ax = plt.subplots()\n",
    "plt.title(\"Clinical Trial\")\n",
    "plt.xlabel(\"Drug dosage (mL)\")\n",
    "plt.ylabel(\"Forgetfulness\")\n",
    "_ = ax.scatter(x, y)"
   ]
  },
  {
   "cell_type": "markdown",
   "metadata": {
    "id": "6hl2KtAM09hB"
   },
   "source": [
    "Initialize the slope parameter $m$ with a \"random\" value of 0.9..."
   ]
  },
  {
   "cell_type": "markdown",
   "metadata": {
    "id": "hvAa4nXz09hB"
   },
   "source": [
    "(**N.B.**: In this simple demo, we could guess approximately-correct parameter values to start with. Or, we could use an algebraic (e.g., Moore-Penrose pseudoinverse) or statistical (e.g., ordinary-least-squares regression) to solve for the parameters quickly. This tiny machine learning demo with two parameters and eight data points scales, however, to millions of parameters and millions of data points. The other approaches -- guessing, algebra, statistics -- do not come close to scaling in this way.)\n",
    "\n",
    "When we randomly initialize the parameters of an ML model, it's typically a good practice to start with near-zero values because values far from zero would imply a strong opinion or that learning had already occurred. \n",
    "\n",
    "For the purposes of this toy ML demonstration, we aren't truly initializing with a random value. Instead we're manually selecting a \"random\" value. You are welcome to choose a different value yourself such as one that approximates the negative slope you can see (however, with real-world ML models, we'd rarely be able to \"eyeball\" parameter values because there could be millions of them). I deliberately chose starting values that do not look like they would fit the data well right off the bat so that we can clearly observe a model learning.\n"
   ]
  },
  {
   "cell_type": "code",
   "execution_count": 74,
   "metadata": {
    "colab": {
     "base_uri": "https://localhost:8080/"
    },
    "id": "IXY3nd3r09hB",
    "outputId": "e5608780-f2e0-490e-dd8c-add6eab20f9a"
   },
   "outputs": [
    {
     "data": {
      "text/plain": [
       "tensor([0.9000], requires_grad=True)"
      ]
     },
     "execution_count": 74,
     "metadata": {},
     "output_type": "execute_result"
    }
   ],
   "source": [
    "m = torch.tensor([0.9]).requires_grad_() \n",
    "#now when we use our x values and we flow them through functions any other tensors the m tensor comes\n",
    "#in contact with will also track gradients and that will allows us to apply differentiation back so\n",
    "#we can find the slope of y in respect to x\n",
    "m"
   ]
  },
  {
   "cell_type": "markdown",
   "metadata": {
    "id": "loz5ja6Z09hB"
   },
   "source": [
    "...and do the same for the $y$-intercept parameter $b$: "
   ]
  },
  {
   "cell_type": "code",
   "execution_count": 75,
   "metadata": {
    "colab": {
     "base_uri": "https://localhost:8080/"
    },
    "id": "ofqXHEGL09hB",
    "outputId": "41020643-2e32-42d5-8e56-99cbaca94b6c"
   },
   "outputs": [
    {
     "data": {
      "text/plain": [
       "tensor([0.1000], requires_grad=True)"
      ]
     },
     "execution_count": 75,
     "metadata": {},
     "output_type": "execute_result"
    }
   ],
   "source": [
    "b = torch.tensor([0.1]).requires_grad_()\n",
    "b"
   ]
  },
  {
   "cell_type": "code",
   "execution_count": 76,
   "metadata": {
    "id": "BJ1-Rioe09hC"
   },
   "outputs": [],
   "source": [
    "def regression(my_x, my_m, my_b):\n",
    "    return my_m*my_x + my_b"
   ]
  },
  {
   "cell_type": "code",
   "execution_count": 77,
   "metadata": {
    "id": "UbCaQY1R09hC"
   },
   "outputs": [],
   "source": [
    "def regression_plot(my_x, my_y, my_m, my_b):\n",
    "    \n",
    "    fig, ax = plt.subplots()\n",
    "\n",
    "    ax.scatter(my_x, my_y)\n",
    "    \n",
    "    x_min, x_max = ax.get_xlim()\n",
    "    y_min = regression(x_min, my_m, my_b).detach().item()\n",
    "    y_max = regression(x_max, my_m, my_b).detach().item()\n",
    "    \n",
    "    ax.set_xlim([x_min, x_max])\n",
    "    _ = ax.plot([x_min, x_max], [y_min, y_max])"
   ]
  },
  {
   "cell_type": "code",
   "execution_count": 78,
   "metadata": {
    "colab": {
     "base_uri": "https://localhost:8080/",
     "height": 266
    },
    "id": "9auSbE4A09hC",
    "outputId": "39491dcd-d064-4dd4-c705-aa9745adf2c1"
   },
   "outputs": [
    {
     "data": {
      "image/png": "[encoded data removed]",
      "text/plain": [
       "<Figure size 640x480 with 1 Axes>"
      ]
     },
     "metadata": {},
     "output_type": "display_data"
    }
   ],
   "source": [
    "regression_plot(x, y, m, b)"
   ]
  },
  {
   "cell_type": "markdown",
   "metadata": {
    "id": "tALo3vf_09hC"
   },
   "source": [
    "**Return to slides here if following *Calculus I* class.**"
   ]
  },
  {
   "cell_type": "markdown",
   "metadata": {
    "id": "Ws53tPJF09hC"
   },
   "source": [
    "### Machine Learning\n",
    "In four easy steps :)"
   ]
  },
  {
   "cell_type": "markdown",
   "metadata": {
    "id": "3egph_ZU09hC"
   },
   "source": [
    "**Step 1**: Forward pass"
   ]
  },
  {
   "cell_type": "code",
   "execution_count": 79,
   "metadata": {
    "colab": {
     "base_uri": "https://localhost:8080/"
    },
    "id": "901_nf3f09hC",
    "outputId": "bae3e29c-85e2-41ec-8dbf-e1de3401b208"
   },
   "outputs": [
    {
     "data": {
      "text/plain": [
       "tensor([0.1000, 1.0000, 1.9000, 2.8000, 3.7000, 4.6000, 5.5000, 6.4000],\n",
       "       grad_fn=<AddBackward0>)"
      ]
     },
     "execution_count": 79,
     "metadata": {},
     "output_type": "execute_result"
    }
   ],
   "source": [
    "yhat = regression(x, m, b)\n",
    "yhat"
   ]
  },
  {
   "cell_type": "markdown",
   "metadata": {
    "id": "AAV5AN8Y09hD"
   },
   "source": [
    "**Step 2**: Compare $\\hat{y}$ with true $y$ to calculate cost $C$"
   ]
  },
  {
   "cell_type": "markdown",
   "metadata": {
    "id": "VIUzVfyIiFZ4"
   },
   "source": [
    "There is a PyTorch `MSELoss` method, but let's define it outselves to see how it works. MSE cost is defined by: $$C = \\frac{1}{n} \\sum_{i=1}^n (\\hat{y_i}-y_i)^2 $$"
   ]
  },
  {
   "cell_type": "code",
   "execution_count": 81,
   "metadata": {
    "id": "sRAbg8lQ09hD"
   },
   "outputs": [],
   "source": [
    "def mse(my_yhat, my_y): \n",
    "    sigma = torch.sum((my_yhat - my_y)**2)\n",
    "    return sigma/len(my_y)"
   ]
  },
  {
   "cell_type": "code",
   "execution_count": 82,
   "metadata": {
    "colab": {
     "base_uri": "https://localhost:8080/"
    },
    "id": "V6I7Cmi409hD",
    "outputId": "c17956a3-4d2b-4dfc-cb41-c2c35aa4d8c8"
   },
   "outputs": [
    {
     "data": {
      "text/plain": [
       "tensor(19.6755, grad_fn=<DivBackward0>)"
      ]
     },
     "execution_count": 82,
     "metadata": {},
     "output_type": "execute_result"
    }
   ],
   "source": [
    "C = mse(yhat, y)\n",
    "C"
   ]
  },
  {
   "cell_type": "markdown",
   "metadata": {
    "id": "avZjfPNQ09hD"
   },
   "source": [
    "**Step 3**: Use autodiff to calculate gradient of $C$ w.r.t. parameters"
   ]
  },
  {
   "cell_type": "code",
   "execution_count": 83,
   "metadata": {
    "id": "GmouXexF09hE"
   },
   "outputs": [],
   "source": [
    "C.backward()\n",
    "#we want to find out what changes we need to make in each of our parameters\n",
    "#differentiate backwards over the erlier tensors in our graph\n",
    "#use the chain rule to calculate C with respect to m and b"
   ]
  },
  {
   "cell_type": "code",
   "execution_count": 84,
   "metadata": {
    "colab": {
     "base_uri": "https://localhost:8080/"
    },
    "id": "cOYw5LOV09hE",
    "outputId": "c168314c-e1d1-4a30-eb12-c4cb2ad20e05"
   },
   "outputs": [
    {
     "data": {
      "text/plain": [
       "tensor([36.3050])"
      ]
     },
     "execution_count": 84,
     "metadata": {},
     "output_type": "execute_result"
    }
   ],
   "source": [
    "m.grad"
   ]
  },
  {
   "cell_type": "code",
   "execution_count": 85,
   "metadata": {
    "colab": {
     "base_uri": "https://localhost:8080/"
    },
    "id": "vyvLxxYy09hE",
    "outputId": "f0e03874-1b5f-4a8c-9231-1177536d891d"
   },
   "outputs": [
    {
     "data": {
      "text/plain": [
       "tensor([6.2650])"
      ]
     },
     "execution_count": 85,
     "metadata": {},
     "output_type": "execute_result"
    }
   ],
   "source": [
    "b.grad"
   ]
  },
  {
   "cell_type": "markdown",
   "metadata": {
    "id": "iWn_fH0t09hE"
   },
   "source": [
    "**Step 4**: Gradient descent"
   ]
  },
  {
   "cell_type": "code",
   "execution_count": 88,
   "metadata": {
    "id": "-H18htep09hE"
   },
   "outputs": [],
   "source": [
    "optimizer = torch.optim.SGD([m, b], lr=0.01)\n",
    "#stohastic gradient descent. We pass a list with all the parameters we want to change\n",
    "#and for the second argument we add the learning rate. How much we will adjust m and b.\n",
    "#lr is a hyperparameter"
   ]
  },
  {
   "cell_type": "code",
   "execution_count": 89,
   "metadata": {
    "id": "l6Ca-YTp09hE"
   },
   "outputs": [],
   "source": [
    "optimizer.step()"
   ]
  },
  {
   "cell_type": "markdown",
   "metadata": {
    "id": "bfMF3B2709hE"
   },
   "source": [
    "Confirm parameters have been adjusted sensibly: "
   ]
  },
  {
   "cell_type": "code",
   "execution_count": 90,
   "metadata": {
    "colab": {
     "base_uri": "https://localhost:8080/"
    },
    "id": "GOr74kGm09hF",
    "outputId": "5a198564-d43f-45ad-c8fe-e6c5629bf4dc"
   },
   "outputs": [
    {
     "data": {
      "text/plain": [
       "tensor([0.1739], requires_grad=True)"
      ]
     },
     "execution_count": 90,
     "metadata": {},
     "output_type": "execute_result"
    }
   ],
   "source": [
    "m"
   ]
  },
  {
   "cell_type": "code",
   "execution_count": 91,
   "metadata": {
    "colab": {
     "base_uri": "https://localhost:8080/"
    },
    "id": "Ht7U_2_G09hF",
    "outputId": "dc44855c-1d4d-48c3-cf26-29d32385e0e1"
   },
   "outputs": [
    {
     "data": {
      "text/plain": [
       "tensor([-0.0253], requires_grad=True)"
      ]
     },
     "execution_count": 91,
     "metadata": {},
     "output_type": "execute_result"
    }
   ],
   "source": [
    "b"
   ]
  },
  {
   "cell_type": "code",
   "execution_count": 92,
   "metadata": {
    "colab": {
     "base_uri": "https://localhost:8080/",
     "height": 265
    },
    "id": "qQIUjHPY09hF",
    "outputId": "45fe08d1-1f03-42c6-9d49-8e10309e1795"
   },
   "outputs": [
    {
     "data": {
      "image/png": "[encoded data removed]",
      "text/plain": [
       "<Figure size 640x480 with 1 Axes>"
      ]
     },
     "metadata": {},
     "output_type": "display_data"
    }
   ],
   "source": [
    "regression_plot(x, y, m, b)"
   ]
  },
  {
   "cell_type": "markdown",
   "metadata": {
    "id": "mwo0UsoA09hF"
   },
   "source": [
    "We can repeat steps 1 and 2 to confirm cost has decreased: "
   ]
  },
  {
   "cell_type": "code",
   "execution_count": 93,
   "metadata": {
    "colab": {
     "base_uri": "https://localhost:8080/"
    },
    "id": "76e1mVu209hF",
    "outputId": "428741db-dc8f-45c8-f640-d276dd03b285"
   },
   "outputs": [
    {
     "data": {
      "text/plain": [
       "tensor(2.4083, grad_fn=<DivBackward0>)"
      ]
     },
     "execution_count": 93,
     "metadata": {},
     "output_type": "execute_result"
    }
   ],
   "source": [
    "C = mse(regression(x, m, b), y)\n",
    "C"
   ]
  },
  {
   "cell_type": "markdown",
   "metadata": {
    "id": "r6dAqwRw09hF"
   },
   "source": [
    "Put the 4 steps in a loop to iteratively minimize cost toward zero: "
   ]
  },
  {
   "cell_type": "code",
   "execution_count": 95,
   "metadata": {
    "colab": {
     "base_uri": "https://localhost:8080/"
    },
    "id": "wejSZX2q09hF",
    "outputId": "05546d2f-07e1-4c47-804e-f603aa65e949"
   },
   "outputs": [
    {
     "name": "stdout",
     "output_type": "stream",
     "text": [
      "Epoch 0, cost 0.0195, m grad 0.000665, b grad -0.00327\n",
      "Epoch 1, cost 0.0195, m grad 0.000661, b grad -0.00325\n",
      "Epoch 2, cost 0.0195, m grad 0.000657, b grad -0.00323\n",
      "Epoch 3, cost 0.0195, m grad 0.000653, b grad -0.00321\n",
      "Epoch 4, cost 0.0195, m grad 0.00065, b grad -0.00319\n",
      "Epoch 5, cost 0.0195, m grad 0.000646, b grad -0.00318\n",
      "Epoch 6, cost 0.0195, m grad 0.000642, b grad -0.00316\n",
      "Epoch 7, cost 0.0195, m grad 0.000639, b grad -0.00314\n",
      "Epoch 8, cost 0.0195, m grad 0.000635, b grad -0.00312\n",
      "Epoch 9, cost 0.0195, m grad 0.000631, b grad -0.0031\n",
      "Epoch 10, cost 0.0195, m grad 0.000627, b grad -0.00309\n",
      "Epoch 11, cost 0.0195, m grad 0.000624, b grad -0.00307\n",
      "Epoch 12, cost 0.0195, m grad 0.00062, b grad -0.00305\n",
      "Epoch 13, cost 0.0195, m grad 0.000616, b grad -0.00303\n",
      "Epoch 14, cost 0.0195, m grad 0.000613, b grad -0.00302\n",
      "Epoch 15, cost 0.0195, m grad 0.000609, b grad -0.003\n",
      "Epoch 16, cost 0.0195, m grad 0.000605, b grad -0.00298\n",
      "Epoch 17, cost 0.0195, m grad 0.000602, b grad -0.00296\n",
      "Epoch 18, cost 0.0195, m grad 0.000599, b grad -0.00295\n",
      "Epoch 19, cost 0.0195, m grad 0.000596, b grad -0.00293\n",
      "Epoch 20, cost 0.0195, m grad 0.000592, b grad -0.00291\n",
      "Epoch 21, cost 0.0195, m grad 0.000589, b grad -0.0029\n",
      "Epoch 22, cost 0.0195, m grad 0.000585, b grad -0.00288\n",
      "Epoch 23, cost 0.0195, m grad 0.000582, b grad -0.00286\n",
      "Epoch 24, cost 0.0195, m grad 0.000579, b grad -0.00285\n",
      "Epoch 25, cost 0.0195, m grad 0.000576, b grad -0.00283\n",
      "Epoch 26, cost 0.0195, m grad 0.000573, b grad -0.00281\n",
      "Epoch 27, cost 0.0195, m grad 0.000569, b grad -0.0028\n",
      "Epoch 28, cost 0.0195, m grad 0.000566, b grad -0.00278\n",
      "Epoch 29, cost 0.0195, m grad 0.000562, b grad -0.00276\n",
      "Epoch 30, cost 0.0195, m grad 0.000559, b grad -0.00275\n",
      "Epoch 31, cost 0.0195, m grad 0.000555, b grad -0.00273\n",
      "Epoch 32, cost 0.0195, m grad 0.000553, b grad -0.00272\n",
      "Epoch 33, cost 0.0195, m grad 0.00055, b grad -0.0027\n",
      "Epoch 34, cost 0.0195, m grad 0.000547, b grad -0.00269\n",
      "Epoch 35, cost 0.0195, m grad 0.000543, b grad -0.00267\n",
      "Epoch 36, cost 0.0195, m grad 0.00054, b grad -0.00265\n",
      "Epoch 37, cost 0.0195, m grad 0.000537, b grad -0.00264\n",
      "Epoch 38, cost 0.0195, m grad 0.000534, b grad -0.00262\n",
      "Epoch 39, cost 0.0195, m grad 0.000531, b grad -0.00261\n",
      "Epoch 40, cost 0.0195, m grad 0.000528, b grad -0.00259\n",
      "Epoch 41, cost 0.0195, m grad 0.000525, b grad -0.00258\n",
      "Epoch 42, cost 0.0195, m grad 0.000522, b grad -0.00256\n",
      "Epoch 43, cost 0.0195, m grad 0.000519, b grad -0.00255\n",
      "Epoch 44, cost 0.0195, m grad 0.000516, b grad -0.00253\n",
      "Epoch 45, cost 0.0195, m grad 0.000513, b grad -0.00252\n",
      "Epoch 46, cost 0.0195, m grad 0.00051, b grad -0.00251\n",
      "Epoch 47, cost 0.0195, m grad 0.000507, b grad -0.00249\n",
      "Epoch 48, cost 0.0195, m grad 0.000504, b grad -0.00248\n",
      "Epoch 49, cost 0.0195, m grad 0.000502, b grad -0.00246\n",
      "Epoch 50, cost 0.0195, m grad 0.000499, b grad -0.00245\n",
      "Epoch 51, cost 0.0195, m grad 0.000496, b grad -0.00243\n",
      "Epoch 52, cost 0.0195, m grad 0.000493, b grad -0.00242\n",
      "Epoch 53, cost 0.0195, m grad 0.00049, b grad -0.00241\n",
      "Epoch 54, cost 0.0195, m grad 0.000488, b grad -0.00239\n",
      "Epoch 55, cost 0.0195, m grad 0.000484, b grad -0.00238\n",
      "Epoch 56, cost 0.0195, m grad 0.000482, b grad -0.00236\n",
      "Epoch 57, cost 0.0195, m grad 0.000478, b grad -0.00235\n",
      "Epoch 58, cost 0.0195, m grad 0.000475, b grad -0.00234\n",
      "Epoch 59, cost 0.0195, m grad 0.000473, b grad -0.00232\n",
      "Epoch 60, cost 0.0195, m grad 0.000469, b grad -0.00231\n",
      "Epoch 61, cost 0.0195, m grad 0.000467, b grad -0.0023\n",
      "Epoch 62, cost 0.0195, m grad 0.000465, b grad -0.00228\n",
      "Epoch 63, cost 0.0195, m grad 0.000462, b grad -0.00227\n",
      "Epoch 64, cost 0.0195, m grad 0.00046, b grad -0.00226\n",
      "Epoch 65, cost 0.0195, m grad 0.000457, b grad -0.00224\n",
      "Epoch 66, cost 0.0195, m grad 0.000454, b grad -0.00223\n",
      "Epoch 67, cost 0.0195, m grad 0.000452, b grad -0.00222\n",
      "Epoch 68, cost 0.0195, m grad 0.000448, b grad -0.00221\n",
      "Epoch 69, cost 0.0195, m grad 0.000447, b grad -0.00219\n",
      "Epoch 70, cost 0.0195, m grad 0.000443, b grad -0.00218\n",
      "Epoch 71, cost 0.0195, m grad 0.000441, b grad -0.00217\n",
      "Epoch 72, cost 0.0195, m grad 0.000438, b grad -0.00216\n",
      "Epoch 73, cost 0.0195, m grad 0.000436, b grad -0.00214\n",
      "Epoch 74, cost 0.0195, m grad 0.000434, b grad -0.00213\n",
      "Epoch 75, cost 0.0195, m grad 0.000431, b grad -0.00212\n",
      "Epoch 76, cost 0.0195, m grad 0.000428, b grad -0.00211\n",
      "Epoch 77, cost 0.0195, m grad 0.000426, b grad -0.00209\n",
      "Epoch 78, cost 0.0195, m grad 0.000423, b grad -0.00208\n",
      "Epoch 79, cost 0.0195, m grad 0.000421, b grad -0.00207\n",
      "Epoch 80, cost 0.0195, m grad 0.00042, b grad -0.00206\n",
      "Epoch 81, cost 0.0195, m grad 0.000417, b grad -0.00205\n",
      "Epoch 82, cost 0.0195, m grad 0.000414, b grad -0.00203\n",
      "Epoch 83, cost 0.0195, m grad 0.000412, b grad -0.00202\n",
      "Epoch 84, cost 0.0195, m grad 0.00041, b grad -0.00201\n",
      "Epoch 85, cost 0.0195, m grad 0.000407, b grad -0.002\n",
      "Epoch 86, cost 0.0195, m grad 0.000404, b grad -0.00199\n",
      "Epoch 87, cost 0.0195, m grad 0.000402, b grad -0.00198\n",
      "Epoch 88, cost 0.0195, m grad 0.0004, b grad -0.00197\n",
      "Epoch 89, cost 0.0195, m grad 0.000397, b grad -0.00195\n",
      "Epoch 90, cost 0.0195, m grad 0.000395, b grad -0.00194\n",
      "Epoch 91, cost 0.0195, m grad 0.000393, b grad -0.00193\n",
      "Epoch 92, cost 0.0195, m grad 0.00039, b grad -0.00192\n",
      "Epoch 93, cost 0.0195, m grad 0.000388, b grad -0.00191\n",
      "Epoch 94, cost 0.0195, m grad 0.000386, b grad -0.0019\n",
      "Epoch 95, cost 0.0195, m grad 0.000384, b grad -0.00189\n",
      "Epoch 96, cost 0.0195, m grad 0.000381, b grad -0.00188\n",
      "Epoch 97, cost 0.0195, m grad 0.000379, b grad -0.00187\n",
      "Epoch 98, cost 0.0195, m grad 0.000377, b grad -0.00185\n",
      "Epoch 99, cost 0.0195, m grad 0.000375, b grad -0.00184\n",
      "Epoch 100, cost 0.0195, m grad 0.000373, b grad -0.00183\n",
      "Epoch 101, cost 0.0195, m grad 0.000371, b grad -0.00182\n",
      "Epoch 102, cost 0.0195, m grad 0.00037, b grad -0.00181\n",
      "Epoch 103, cost 0.0195, m grad 0.000367, b grad -0.0018\n",
      "Epoch 104, cost 0.0195, m grad 0.000365, b grad -0.00179\n",
      "Epoch 105, cost 0.0195, m grad 0.000363, b grad -0.00178\n",
      "Epoch 106, cost 0.0195, m grad 0.000359, b grad -0.00177\n",
      "Epoch 107, cost 0.0195, m grad 0.000358, b grad -0.00176\n",
      "Epoch 108, cost 0.0195, m grad 0.000356, b grad -0.00175\n",
      "Epoch 109, cost 0.0195, m grad 0.000354, b grad -0.00174\n",
      "Epoch 110, cost 0.0195, m grad 0.000352, b grad -0.00173\n",
      "Epoch 111, cost 0.0195, m grad 0.000351, b grad -0.00172\n",
      "Epoch 112, cost 0.0195, m grad 0.000347, b grad -0.00171\n",
      "Epoch 113, cost 0.0195, m grad 0.000344, b grad -0.0017\n",
      "Epoch 114, cost 0.0195, m grad 0.000343, b grad -0.00169\n",
      "Epoch 115, cost 0.0195, m grad 0.000341, b grad -0.00168\n",
      "Epoch 116, cost 0.0195, m grad 0.00034, b grad -0.00167\n",
      "Epoch 117, cost 0.0195, m grad 0.000338, b grad -0.00166\n",
      "Epoch 118, cost 0.0195, m grad 0.000337, b grad -0.00165\n",
      "Epoch 119, cost 0.0195, m grad 0.000335, b grad -0.00164\n",
      "Epoch 120, cost 0.0195, m grad 0.000333, b grad -0.00163\n",
      "Epoch 121, cost 0.0195, m grad 0.00033, b grad -0.00162\n",
      "Epoch 122, cost 0.0195, m grad 0.000328, b grad -0.00161\n",
      "Epoch 123, cost 0.0195, m grad 0.000326, b grad -0.00161\n",
      "Epoch 124, cost 0.0195, m grad 0.000325, b grad -0.0016\n",
      "Epoch 125, cost 0.0195, m grad 0.000323, b grad -0.00159\n",
      "Epoch 126, cost 0.0195, m grad 0.000321, b grad -0.00158\n",
      "Epoch 127, cost 0.0195, m grad 0.000319, b grad -0.00157\n",
      "Epoch 128, cost 0.0195, m grad 0.000317, b grad -0.00156\n",
      "Epoch 129, cost 0.0195, m grad 0.000316, b grad -0.00155\n",
      "Epoch 130, cost 0.0195, m grad 0.000314, b grad -0.00154\n",
      "Epoch 131, cost 0.0195, m grad 0.000312, b grad -0.00153\n",
      "Epoch 132, cost 0.0195, m grad 0.00031, b grad -0.00152\n",
      "Epoch 133, cost 0.0195, m grad 0.000309, b grad -0.00151\n",
      "Epoch 134, cost 0.0195, m grad 0.000306, b grad -0.00151\n",
      "Epoch 135, cost 0.0195, m grad 0.000304, b grad -0.0015\n",
      "Epoch 136, cost 0.0195, m grad 0.000302, b grad -0.00149\n",
      "Epoch 137, cost 0.0195, m grad 0.000301, b grad -0.00148\n",
      "Epoch 138, cost 0.0195, m grad 0.0003, b grad -0.00147\n",
      "Epoch 139, cost 0.0195, m grad 0.000297, b grad -0.00146\n",
      "Epoch 140, cost 0.0195, m grad 0.000295, b grad -0.00145\n",
      "Epoch 141, cost 0.0195, m grad 0.000293, b grad -0.00145\n",
      "Epoch 142, cost 0.0195, m grad 0.000293, b grad -0.00144\n",
      "Epoch 143, cost 0.0195, m grad 0.000291, b grad -0.00143\n",
      "Epoch 144, cost 0.0195, m grad 0.000289, b grad -0.00142\n",
      "Epoch 145, cost 0.0195, m grad 0.000287, b grad -0.00141\n",
      "Epoch 146, cost 0.0195, m grad 0.000286, b grad -0.00141\n",
      "Epoch 147, cost 0.0195, m grad 0.000284, b grad -0.0014\n",
      "Epoch 148, cost 0.0195, m grad 0.000283, b grad -0.00139\n",
      "Epoch 149, cost 0.0195, m grad 0.000282, b grad -0.00138\n",
      "Epoch 150, cost 0.0195, m grad 0.00028, b grad -0.00137\n",
      "Epoch 151, cost 0.0195, m grad 0.000277, b grad -0.00137\n",
      "Epoch 152, cost 0.0195, m grad 0.000276, b grad -0.00136\n",
      "Epoch 153, cost 0.0195, m grad 0.000275, b grad -0.00135\n",
      "Epoch 154, cost 0.0195, m grad 0.000273, b grad -0.00134\n",
      "Epoch 155, cost 0.0195, m grad 0.000272, b grad -0.00133\n",
      "Epoch 156, cost 0.0195, m grad 0.000271, b grad -0.00133\n",
      "Epoch 157, cost 0.0195, m grad 0.000268, b grad -0.00132\n",
      "Epoch 158, cost 0.0195, m grad 0.000267, b grad -0.00131\n",
      "Epoch 159, cost 0.0195, m grad 0.000265, b grad -0.0013\n",
      "Epoch 160, cost 0.0195, m grad 0.000263, b grad -0.0013\n",
      "Epoch 161, cost 0.0195, m grad 0.000262, b grad -0.00129\n",
      "Epoch 162, cost 0.0195, m grad 0.000261, b grad -0.00128\n",
      "Epoch 163, cost 0.0195, m grad 0.00026, b grad -0.00127\n",
      "Epoch 164, cost 0.0195, m grad 0.000258, b grad -0.00127\n",
      "Epoch 165, cost 0.0195, m grad 0.000256, b grad -0.00126\n",
      "Epoch 166, cost 0.0195, m grad 0.000254, b grad -0.00125\n",
      "Epoch 167, cost 0.0195, m grad 0.000253, b grad -0.00124\n",
      "Epoch 168, cost 0.0195, m grad 0.000251, b grad -0.00124\n",
      "Epoch 169, cost 0.0195, m grad 0.00025, b grad -0.00123\n",
      "Epoch 170, cost 0.0195, m grad 0.000249, b grad -0.00122\n",
      "Epoch 171, cost 0.0195, m grad 0.000247, b grad -0.00122\n",
      "Epoch 172, cost 0.0195, m grad 0.000246, b grad -0.00121\n",
      "Epoch 173, cost 0.0195, m grad 0.000245, b grad -0.0012\n",
      "Epoch 174, cost 0.0195, m grad 0.000243, b grad -0.0012\n",
      "Epoch 175, cost 0.0195, m grad 0.000241, b grad -0.00119\n",
      "Epoch 176, cost 0.0195, m grad 0.00024, b grad -0.00118\n",
      "Epoch 177, cost 0.0195, m grad 0.000238, b grad -0.00117\n",
      "Epoch 178, cost 0.0195, m grad 0.000237, b grad -0.00117\n",
      "Epoch 179, cost 0.0195, m grad 0.000236, b grad -0.00116\n",
      "Epoch 180, cost 0.0195, m grad 0.000234, b grad -0.00115\n",
      "Epoch 181, cost 0.0195, m grad 0.000233, b grad -0.00115\n",
      "Epoch 182, cost 0.0195, m grad 0.000232, b grad -0.00114\n",
      "Epoch 183, cost 0.0195, m grad 0.000231, b grad -0.00113\n",
      "Epoch 184, cost 0.0195, m grad 0.000229, b grad -0.00113\n",
      "Epoch 185, cost 0.0195, m grad 0.000228, b grad -0.00112\n",
      "Epoch 186, cost 0.0195, m grad 0.000226, b grad -0.00112\n",
      "Epoch 187, cost 0.0195, m grad 0.000225, b grad -0.00111\n",
      "Epoch 188, cost 0.0195, m grad 0.000224, b grad -0.0011\n",
      "Epoch 189, cost 0.0195, m grad 0.000222, b grad -0.0011\n",
      "Epoch 190, cost 0.0195, m grad 0.000221, b grad -0.00109\n",
      "Epoch 191, cost 0.0195, m grad 0.00022, b grad -0.00108\n",
      "Epoch 192, cost 0.0195, m grad 0.000219, b grad -0.00108\n",
      "Epoch 193, cost 0.0195, m grad 0.000217, b grad -0.00107\n",
      "Epoch 194, cost 0.0195, m grad 0.000216, b grad -0.00106\n",
      "Epoch 195, cost 0.0195, m grad 0.000215, b grad -0.00106\n",
      "Epoch 196, cost 0.0195, m grad 0.000214, b grad -0.00105\n",
      "Epoch 197, cost 0.0195, m grad 0.000213, b grad -0.00105\n",
      "Epoch 198, cost 0.0195, m grad 0.000212, b grad -0.00104\n",
      "Epoch 199, cost 0.0195, m grad 0.000211, b grad -0.00103\n",
      "Epoch 200, cost 0.0195, m grad 0.00021, b grad -0.00103\n",
      "Epoch 201, cost 0.0195, m grad 0.000208, b grad -0.00102\n",
      "Epoch 202, cost 0.0195, m grad 0.000207, b grad -0.00102\n",
      "Epoch 203, cost 0.0195, m grad 0.000206, b grad -0.00101\n",
      "Epoch 204, cost 0.0195, m grad 0.000205, b grad -0.001\n",
      "Epoch 205, cost 0.0195, m grad 0.000203, b grad -0.000999\n",
      "Epoch 206, cost 0.0195, m grad 0.000202, b grad -0.000993\n",
      "Epoch 207, cost 0.0195, m grad 0.0002, b grad -0.000988\n",
      "Epoch 208, cost 0.0195, m grad 0.0002, b grad -0.000982\n",
      "Epoch 209, cost 0.0195, m grad 0.000199, b grad -0.000976\n",
      "Epoch 210, cost 0.0195, m grad 0.000197, b grad -0.000971\n",
      "Epoch 211, cost 0.0195, m grad 0.000196, b grad -0.000965\n",
      "Epoch 212, cost 0.0195, m grad 0.000195, b grad -0.000959\n",
      "Epoch 213, cost 0.0195, m grad 0.000194, b grad -0.000954\n",
      "Epoch 214, cost 0.0195, m grad 0.000192, b grad -0.000949\n",
      "Epoch 215, cost 0.0195, m grad 0.000191, b grad -0.000943\n",
      "Epoch 216, cost 0.0195, m grad 0.00019, b grad -0.000938\n",
      "Epoch 217, cost 0.0195, m grad 0.000189, b grad -0.000932\n",
      "Epoch 218, cost 0.0195, m grad 0.000188, b grad -0.000927\n",
      "Epoch 219, cost 0.0195, m grad 0.000187, b grad -0.000921\n",
      "Epoch 220, cost 0.0195, m grad 0.000186, b grad -0.000916\n",
      "Epoch 221, cost 0.0195, m grad 0.000186, b grad -0.000911\n",
      "Epoch 222, cost 0.0195, m grad 0.000184, b grad -0.000906\n",
      "Epoch 223, cost 0.0195, m grad 0.000183, b grad -0.0009\n",
      "Epoch 224, cost 0.0195, m grad 0.000183, b grad -0.000895\n",
      "Epoch 225, cost 0.0195, m grad 0.000182, b grad -0.00089\n",
      "Epoch 226, cost 0.0195, m grad 0.000181, b grad -0.000885\n",
      "Epoch 227, cost 0.0195, m grad 0.000179, b grad -0.00088\n",
      "Epoch 228, cost 0.0195, m grad 0.000178, b grad -0.000875\n",
      "Epoch 229, cost 0.0195, m grad 0.000176, b grad -0.00087\n",
      "Epoch 230, cost 0.0195, m grad 0.000176, b grad -0.000865\n",
      "Epoch 231, cost 0.0195, m grad 0.000175, b grad -0.00086\n",
      "Epoch 232, cost 0.0195, m grad 0.000174, b grad -0.000855\n",
      "Epoch 233, cost 0.0195, m grad 0.000173, b grad -0.00085\n",
      "Epoch 234, cost 0.0195, m grad 0.000172, b grad -0.000845\n",
      "Epoch 235, cost 0.0195, m grad 0.000171, b grad -0.00084\n",
      "Epoch 236, cost 0.0195, m grad 0.00017, b grad -0.000835\n",
      "Epoch 237, cost 0.0195, m grad 0.000169, b grad -0.00083\n",
      "Epoch 238, cost 0.0195, m grad 0.000168, b grad -0.000825\n",
      "Epoch 239, cost 0.0195, m grad 0.000167, b grad -0.000821\n",
      "Epoch 240, cost 0.0195, m grad 0.000166, b grad -0.000816\n",
      "Epoch 241, cost 0.0195, m grad 0.000164, b grad -0.000811\n",
      "Epoch 242, cost 0.0195, m grad 0.000164, b grad -0.000807\n",
      "Epoch 243, cost 0.0195, m grad 0.000163, b grad -0.000802\n",
      "Epoch 244, cost 0.0195, m grad 0.000161, b grad -0.000797\n",
      "Epoch 245, cost 0.0195, m grad 0.000161, b grad -0.000793\n",
      "Epoch 246, cost 0.0195, m grad 0.000161, b grad -0.000788\n",
      "Epoch 247, cost 0.0195, m grad 0.00016, b grad -0.000784\n",
      "Epoch 248, cost 0.0195, m grad 0.000158, b grad -0.000779\n",
      "Epoch 249, cost 0.0195, m grad 0.000157, b grad -0.000775\n",
      "Epoch 250, cost 0.0195, m grad 0.000156, b grad -0.00077\n",
      "Epoch 251, cost 0.0195, m grad 0.000156, b grad -0.000766\n",
      "Epoch 252, cost 0.0195, m grad 0.000155, b grad -0.000761\n",
      "Epoch 253, cost 0.0195, m grad 0.000154, b grad -0.000757\n",
      "Epoch 254, cost 0.0195, m grad 0.000153, b grad -0.000753\n",
      "Epoch 255, cost 0.0195, m grad 0.000152, b grad -0.000748\n",
      "Epoch 256, cost 0.0195, m grad 0.000151, b grad -0.000744\n",
      "Epoch 257, cost 0.0195, m grad 0.00015, b grad -0.00074\n",
      "Epoch 258, cost 0.0195, m grad 0.000149, b grad -0.000735\n",
      "Epoch 259, cost 0.0195, m grad 0.000149, b grad -0.000731\n",
      "Epoch 260, cost 0.0195, m grad 0.000148, b grad -0.000727\n",
      "Epoch 261, cost 0.0195, m grad 0.000147, b grad -0.000723\n",
      "Epoch 262, cost 0.0195, m grad 0.000146, b grad -0.000718\n",
      "Epoch 263, cost 0.0195, m grad 0.000145, b grad -0.000714\n",
      "Epoch 264, cost 0.0195, m grad 0.000144, b grad -0.00071\n",
      "Epoch 265, cost 0.0195, m grad 0.000144, b grad -0.000706\n",
      "Epoch 266, cost 0.0195, m grad 0.000143, b grad -0.000702\n",
      "Epoch 267, cost 0.0195, m grad 0.000142, b grad -0.000698\n",
      "Epoch 268, cost 0.0195, m grad 0.000142, b grad -0.000694\n",
      "Epoch 269, cost 0.0195, m grad 0.00014, b grad -0.00069\n",
      "Epoch 270, cost 0.0195, m grad 0.000139, b grad -0.000686\n",
      "Epoch 271, cost 0.0195, m grad 0.000139, b grad -0.000682\n",
      "Epoch 272, cost 0.0195, m grad 0.000138, b grad -0.000678\n",
      "Epoch 273, cost 0.0195, m grad 0.000137, b grad -0.000674\n",
      "Epoch 274, cost 0.0195, m grad 0.000137, b grad -0.00067\n",
      "Epoch 275, cost 0.0195, m grad 0.000135, b grad -0.000666\n",
      "Epoch 276, cost 0.0195, m grad 0.000135, b grad -0.000662\n",
      "Epoch 277, cost 0.0195, m grad 0.000135, b grad -0.000659\n",
      "Epoch 278, cost 0.0195, m grad 0.000134, b grad -0.000655\n",
      "Epoch 279, cost 0.0195, m grad 0.000133, b grad -0.000651\n",
      "Epoch 280, cost 0.0195, m grad 0.000132, b grad -0.000647\n",
      "Epoch 281, cost 0.0195, m grad 0.000131, b grad -0.000644\n",
      "Epoch 282, cost 0.0195, m grad 0.00013, b grad -0.00064\n",
      "Epoch 283, cost 0.0195, m grad 0.00013, b grad -0.000636\n",
      "Epoch 284, cost 0.0195, m grad 0.000128, b grad -0.000633\n",
      "Epoch 285, cost 0.0195, m grad 0.000128, b grad -0.000629\n",
      "Epoch 286, cost 0.0195, m grad 0.000128, b grad -0.000625\n",
      "Epoch 287, cost 0.0195, m grad 0.000126, b grad -0.000622\n",
      "Epoch 288, cost 0.0195, m grad 0.000125, b grad -0.000618\n",
      "Epoch 289, cost 0.0195, m grad 0.000125, b grad -0.000615\n",
      "Epoch 290, cost 0.0195, m grad 0.000125, b grad -0.000611\n",
      "Epoch 291, cost 0.0195, m grad 0.000123, b grad -0.000608\n",
      "Epoch 292, cost 0.0195, m grad 0.000123, b grad -0.000604\n",
      "Epoch 293, cost 0.0195, m grad 0.000123, b grad -0.0006\n",
      "Epoch 294, cost 0.0195, m grad 0.000122, b grad -0.000597\n",
      "Epoch 295, cost 0.0195, m grad 0.000121, b grad -0.000594\n",
      "Epoch 296, cost 0.0195, m grad 0.00012, b grad -0.00059\n",
      "Epoch 297, cost 0.0195, m grad 0.00012, b grad -0.000587\n",
      "Epoch 298, cost 0.0195, m grad 0.000119, b grad -0.000583\n",
      "Epoch 299, cost 0.0195, m grad 0.000119, b grad -0.00058\n",
      "Epoch 300, cost 0.0195, m grad 0.000118, b grad -0.000577\n",
      "Epoch 301, cost 0.0195, m grad 0.000117, b grad -0.000573\n",
      "Epoch 302, cost 0.0195, m grad 0.000116, b grad -0.00057\n",
      "Epoch 303, cost 0.0195, m grad 0.000115, b grad -0.000567\n",
      "Epoch 304, cost 0.0195, m grad 0.000115, b grad -0.000563\n",
      "Epoch 305, cost 0.0195, m grad 0.000113, b grad -0.00056\n",
      "Epoch 306, cost 0.0195, m grad 0.000113, b grad -0.000557\n",
      "Epoch 307, cost 0.0195, m grad 0.000113, b grad -0.000554\n",
      "Epoch 308, cost 0.0195, m grad 0.000111, b grad -0.000551\n",
      "Epoch 309, cost 0.0195, m grad 0.000111, b grad -0.000548\n",
      "Epoch 310, cost 0.0195, m grad 0.000111, b grad -0.000544\n",
      "Epoch 311, cost 0.0195, m grad 0.000111, b grad -0.000541\n",
      "Epoch 312, cost 0.0195, m grad 0.00011, b grad -0.000538\n",
      "Epoch 313, cost 0.0195, m grad 0.000109, b grad -0.000535\n",
      "Epoch 314, cost 0.0195, m grad 0.000108, b grad -0.000532\n",
      "Epoch 315, cost 0.0195, m grad 0.000109, b grad -0.000528\n",
      "Epoch 316, cost 0.0195, m grad 0.000108, b grad -0.000526\n",
      "Epoch 317, cost 0.0195, m grad 0.000107, b grad -0.000523\n",
      "Epoch 318, cost 0.0195, m grad 0.000106, b grad -0.00052\n",
      "Epoch 319, cost 0.0195, m grad 0.000105, b grad -0.000517\n",
      "Epoch 320, cost 0.0195, m grad 0.000105, b grad -0.000514\n",
      "Epoch 321, cost 0.0195, m grad 0.000104, b grad -0.000511\n",
      "Epoch 322, cost 0.0195, m grad 0.000104, b grad -0.000508\n",
      "Epoch 323, cost 0.0195, m grad 0.000103, b grad -0.000505\n",
      "Epoch 324, cost 0.0195, m grad 0.000102, b grad -0.000502\n",
      "Epoch 325, cost 0.0195, m grad 0.000102, b grad -0.000499\n",
      "Epoch 326, cost 0.0195, m grad 0.000102, b grad -0.000496\n",
      "Epoch 327, cost 0.0195, m grad 0.000101, b grad -0.000493\n",
      "Epoch 328, cost 0.0195, m grad 9.98e-05, b grad -0.00049\n",
      "Epoch 329, cost 0.0195, m grad 9.97e-05, b grad -0.000488\n",
      "Epoch 330, cost 0.0195, m grad 9.96e-05, b grad -0.000485\n",
      "Epoch 331, cost 0.0195, m grad 9.95e-05, b grad -0.000482\n",
      "Epoch 332, cost 0.0195, m grad 9.85e-05, b grad -0.000479\n",
      "Epoch 333, cost 0.0195, m grad 9.72e-05, b grad -0.000476\n",
      "Epoch 334, cost 0.0195, m grad 9.59e-05, b grad -0.000474\n",
      "Epoch 335, cost 0.0195, m grad 9.59e-05, b grad -0.000471\n",
      "Epoch 336, cost 0.0195, m grad 9.59e-05, b grad -0.000468\n",
      "Epoch 337, cost 0.0195, m grad 9.5e-05, b grad -0.000465\n",
      "Epoch 338, cost 0.0195, m grad 9.42e-05, b grad -0.000463\n",
      "Epoch 339, cost 0.0195, m grad 9.34e-05, b grad -0.00046\n",
      "Epoch 340, cost 0.0195, m grad 9.38e-05, b grad -0.000457\n",
      "Epoch 341, cost 0.0195, m grad 9.35e-05, b grad -0.000455\n",
      "Epoch 342, cost 0.0195, m grad 9.29e-05, b grad -0.000452\n",
      "Epoch 343, cost 0.0195, m grad 9.21e-05, b grad -0.00045\n",
      "Epoch 344, cost 0.0195, m grad 9.14e-05, b grad -0.000447\n",
      "Epoch 345, cost 0.0195, m grad 8.98e-05, b grad -0.000445\n",
      "Epoch 346, cost 0.0195, m grad 8.92e-05, b grad -0.000442\n",
      "Epoch 347, cost 0.0195, m grad 8.93e-05, b grad -0.000439\n",
      "Epoch 348, cost 0.0195, m grad 8.87e-05, b grad -0.000437\n",
      "Epoch 349, cost 0.0195, m grad 8.81e-05, b grad -0.000434\n",
      "Epoch 350, cost 0.0195, m grad 8.67e-05, b grad -0.000432\n",
      "Epoch 351, cost 0.0195, m grad 8.7e-05, b grad -0.00043\n",
      "Epoch 352, cost 0.0195, m grad 8.65e-05, b grad -0.000427\n",
      "Epoch 353, cost 0.0195, m grad 8.63e-05, b grad -0.000424\n",
      "Epoch 354, cost 0.0195, m grad 8.62e-05, b grad -0.000422\n",
      "Epoch 355, cost 0.0195, m grad 8.48e-05, b grad -0.00042\n",
      "Epoch 356, cost 0.0195, m grad 8.53e-05, b grad -0.000417\n",
      "Epoch 357, cost 0.0195, m grad 8.4e-05, b grad -0.000415\n",
      "Epoch 358, cost 0.0195, m grad 8.43e-05, b grad -0.000412\n",
      "Epoch 359, cost 0.0195, m grad 8.4e-05, b grad -0.00041\n",
      "Epoch 360, cost 0.0195, m grad 8.35e-05, b grad -0.000408\n",
      "Epoch 361, cost 0.0195, m grad 8.23e-05, b grad -0.000405\n",
      "Epoch 362, cost 0.0195, m grad 8.18e-05, b grad -0.000403\n",
      "Epoch 363, cost 0.0195, m grad 8.15e-05, b grad -0.000401\n",
      "Epoch 364, cost 0.0195, m grad 8.2e-05, b grad -0.000398\n",
      "Epoch 365, cost 0.0195, m grad 8e-05, b grad -0.000396\n",
      "Epoch 366, cost 0.0195, m grad 7.96e-05, b grad -0.000394\n",
      "Epoch 367, cost 0.0195, m grad 7.93e-05, b grad -0.000392\n",
      "Epoch 368, cost 0.0195, m grad 7.81e-05, b grad -0.000389\n",
      "Epoch 369, cost 0.0195, m grad 7.88e-05, b grad -0.000387\n",
      "Epoch 370, cost 0.0195, m grad 7.86e-05, b grad -0.000385\n",
      "Epoch 371, cost 0.0195, m grad 7.8e-05, b grad -0.000383\n",
      "Epoch 372, cost 0.0195, m grad 7.73e-05, b grad -0.00038\n",
      "Epoch 373, cost 0.0195, m grad 7.72e-05, b grad -0.000378\n",
      "Epoch 374, cost 0.0195, m grad 7.7e-05, b grad -0.000376\n",
      "Epoch 375, cost 0.0195, m grad 7.63e-05, b grad -0.000374\n",
      "Epoch 376, cost 0.0195, m grad 7.48e-05, b grad -0.000372\n",
      "Epoch 377, cost 0.0195, m grad 7.48e-05, b grad -0.00037\n",
      "Epoch 378, cost 0.0195, m grad 7.47e-05, b grad -0.000367\n",
      "Epoch 379, cost 0.0195, m grad 7.45e-05, b grad -0.000365\n",
      "Epoch 380, cost 0.0195, m grad 7.45e-05, b grad -0.000363\n",
      "Epoch 381, cost 0.0195, m grad 7.35e-05, b grad -0.000361\n",
      "Epoch 382, cost 0.0195, m grad 7.22e-05, b grad -0.000359\n",
      "Epoch 383, cost 0.0195, m grad 7.22e-05, b grad -0.000357\n",
      "Epoch 384, cost 0.0195, m grad 7.22e-05, b grad -0.000355\n",
      "Epoch 385, cost 0.0195, m grad 7.22e-05, b grad -0.000353\n",
      "Epoch 386, cost 0.0195, m grad 7.22e-05, b grad -0.000351\n",
      "Epoch 387, cost 0.0195, m grad 7.13e-05, b grad -0.000349\n",
      "Epoch 388, cost 0.0195, m grad 7.05e-05, b grad -0.000347\n",
      "Epoch 389, cost 0.0195, m grad 6.96e-05, b grad -0.000345\n",
      "Epoch 390, cost 0.0195, m grad 7.01e-05, b grad -0.000343\n",
      "Epoch 391, cost 0.0195, m grad 6.93e-05, b grad -0.000341\n",
      "Epoch 392, cost 0.0195, m grad 6.95e-05, b grad -0.000339\n",
      "Epoch 393, cost 0.0195, m grad 6.87e-05, b grad -0.000337\n",
      "Epoch 394, cost 0.0195, m grad 6.8e-05, b grad -0.000335\n",
      "Epoch 395, cost 0.0195, m grad 6.73e-05, b grad -0.000333\n",
      "Epoch 396, cost 0.0195, m grad 6.65e-05, b grad -0.000331\n",
      "Epoch 397, cost 0.0195, m grad 6.71e-05, b grad -0.000329\n",
      "Epoch 398, cost 0.0195, m grad 6.68e-05, b grad -0.000327\n",
      "Epoch 399, cost 0.0195, m grad 6.62e-05, b grad -0.000325\n",
      "Epoch 400, cost 0.0195, m grad 6.56e-05, b grad -0.000324\n",
      "Epoch 401, cost 0.0195, m grad 6.5e-05, b grad -0.000322\n",
      "Epoch 402, cost 0.0195, m grad 6.51e-05, b grad -0.00032\n",
      "Epoch 403, cost 0.0195, m grad 6.45e-05, b grad -0.000318\n",
      "Epoch 404, cost 0.0195, m grad 6.39e-05, b grad -0.000316\n",
      "Epoch 405, cost 0.0195, m grad 6.46e-05, b grad -0.000314\n",
      "Epoch 406, cost 0.0195, m grad 6.36e-05, b grad -0.000312\n",
      "Epoch 407, cost 0.0195, m grad 6.31e-05, b grad -0.000311\n",
      "Epoch 408, cost 0.0195, m grad 6.3e-05, b grad -0.000309\n",
      "Epoch 409, cost 0.0195, m grad 6.29e-05, b grad -0.000307\n",
      "Epoch 410, cost 0.0195, m grad 6.23e-05, b grad -0.000305\n",
      "Epoch 411, cost 0.0195, m grad 6.26e-05, b grad -0.000303\n",
      "Epoch 412, cost 0.0195, m grad 6.12e-05, b grad -0.000302\n",
      "Epoch 413, cost 0.0195, m grad 6e-05, b grad -0.0003\n",
      "Epoch 414, cost 0.0195, m grad 6.03e-05, b grad -0.000298\n",
      "Epoch 415, cost 0.0195, m grad 6e-05, b grad -0.000297\n",
      "Epoch 416, cost 0.0195, m grad 6.03e-05, b grad -0.000295\n",
      "Epoch 417, cost 0.0195, m grad 6e-05, b grad -0.000293\n",
      "Epoch 418, cost 0.0195, m grad 6.03e-05, b grad -0.000291\n",
      "Epoch 419, cost 0.0195, m grad 5.92e-05, b grad -0.00029\n",
      "Epoch 420, cost 0.0195, m grad 5.87e-05, b grad -0.000288\n",
      "Epoch 421, cost 0.0195, m grad 5.75e-05, b grad -0.000287\n",
      "Epoch 422, cost 0.0195, m grad 5.8e-05, b grad -0.000285\n",
      "Epoch 423, cost 0.0195, m grad 5.84e-05, b grad -0.000283\n",
      "Epoch 424, cost 0.0195, m grad 5.73e-05, b grad -0.000282\n",
      "Epoch 425, cost 0.0195, m grad 5.78e-05, b grad -0.00028\n",
      "Epoch 426, cost 0.0195, m grad 5.67e-05, b grad -0.000278\n",
      "Epoch 427, cost 0.0195, m grad 5.64e-05, b grad -0.000277\n",
      "Epoch 428, cost 0.0195, m grad 5.59e-05, b grad -0.000275\n",
      "Epoch 429, cost 0.0195, m grad 5.48e-05, b grad -0.000274\n",
      "Epoch 430, cost 0.0195, m grad 5.54e-05, b grad -0.000272\n",
      "Epoch 431, cost 0.0195, m grad 5.51e-05, b grad -0.00027\n",
      "Epoch 432, cost 0.0195, m grad 5.5e-05, b grad -0.000269\n",
      "Epoch 433, cost 0.0195, m grad 5.56e-05, b grad -0.000267\n",
      "Epoch 434, cost 0.0195, m grad 5.45e-05, b grad -0.000266\n",
      "Epoch 435, cost 0.0195, m grad 5.38e-05, b grad -0.000264\n",
      "Epoch 436, cost 0.0195, m grad 5.31e-05, b grad -0.000263\n",
      "Epoch 437, cost 0.0195, m grad 5.29e-05, b grad -0.000261\n",
      "Epoch 438, cost 0.0195, m grad 5.28e-05, b grad -0.00026\n",
      "Epoch 439, cost 0.0195, m grad 5.21e-05, b grad -0.000258\n",
      "Epoch 440, cost 0.0195, m grad 5.25e-05, b grad -0.000257\n",
      "Epoch 441, cost 0.0195, m grad 5.22e-05, b grad -0.000255\n",
      "Epoch 442, cost 0.0195, m grad 5.12e-05, b grad -0.000254\n",
      "Epoch 443, cost 0.0195, m grad 5.11e-05, b grad -0.000252\n",
      "Epoch 444, cost 0.0195, m grad 5.09e-05, b grad -0.000251\n",
      "Epoch 445, cost 0.0195, m grad 5.05e-05, b grad -0.000249\n",
      "Epoch 446, cost 0.0195, m grad 5e-05, b grad -0.000248\n",
      "Epoch 447, cost 0.0195, m grad 4.98e-05, b grad -0.000247\n",
      "Epoch 448, cost 0.0195, m grad 4.97e-05, b grad -0.000245\n",
      "Epoch 449, cost 0.0195, m grad 4.96e-05, b grad -0.000244\n",
      "Epoch 450, cost 0.0195, m grad 4.87e-05, b grad -0.000242\n",
      "Epoch 451, cost 0.0195, m grad 4.87e-05, b grad -0.000241\n",
      "Epoch 452, cost 0.0195, m grad 4.87e-05, b grad -0.00024\n",
      "Epoch 453, cost 0.0195, m grad 4.87e-05, b grad -0.000238\n",
      "Epoch 454, cost 0.0195, m grad 4.87e-05, b grad -0.000237\n",
      "Epoch 455, cost 0.0195, m grad 4.87e-05, b grad -0.000235\n",
      "Epoch 456, cost 0.0195, m grad 4.87e-05, b grad -0.000234\n",
      "Epoch 457, cost 0.0195, m grad 4.87e-05, b grad -0.000232\n",
      "Epoch 458, cost 0.0195, m grad 4.78e-05, b grad -0.000231\n",
      "Epoch 459, cost 0.0195, m grad 4.7e-05, b grad -0.00023\n",
      "Epoch 460, cost 0.0195, m grad 4.62e-05, b grad -0.000229\n",
      "Epoch 461, cost 0.0195, m grad 4.62e-05, b grad -0.000227\n",
      "Epoch 462, cost 0.0195, m grad 4.54e-05, b grad -0.000226\n",
      "Epoch 463, cost 0.0195, m grad 4.56e-05, b grad -0.000225\n",
      "Epoch 464, cost 0.0195, m grad 4.56e-05, b grad -0.000223\n",
      "Epoch 465, cost 0.0195, m grad 4.58e-05, b grad -0.000222\n",
      "Epoch 466, cost 0.0195, m grad 4.63e-05, b grad -0.000221\n",
      "Epoch 467, cost 0.0195, m grad 4.54e-05, b grad -0.000219\n",
      "Epoch 468, cost 0.0195, m grad 4.51e-05, b grad -0.000218\n",
      "Epoch 469, cost 0.0195, m grad 4.45e-05, b grad -0.000217\n",
      "Epoch 470, cost 0.0195, m grad 4.37e-05, b grad -0.000216\n",
      "Epoch 471, cost 0.0195, m grad 4.3e-05, b grad -0.000215\n",
      "Epoch 472, cost 0.0195, m grad 4.31e-05, b grad -0.000213\n",
      "Epoch 473, cost 0.0195, m grad 4.38e-05, b grad -0.000212\n",
      "Epoch 474, cost 0.0195, m grad 4.34e-05, b grad -0.000211\n",
      "Epoch 475, cost 0.0195, m grad 4.28e-05, b grad -0.00021\n",
      "Epoch 476, cost 0.0195, m grad 4.29e-05, b grad -0.000208\n",
      "Epoch 477, cost 0.0195, m grad 4.23e-05, b grad -0.000207\n",
      "Epoch 478, cost 0.0195, m grad 4.21e-05, b grad -0.000206\n",
      "Epoch 479, cost 0.0195, m grad 4.19e-05, b grad -0.000205\n",
      "Epoch 480, cost 0.0195, m grad 4.13e-05, b grad -0.000204\n",
      "Epoch 481, cost 0.0195, m grad 4.06e-05, b grad -0.000203\n",
      "Epoch 482, cost 0.0195, m grad 4.04e-05, b grad -0.000202\n",
      "Epoch 483, cost 0.0195, m grad 4.03e-05, b grad -0.0002\n",
      "Epoch 484, cost 0.0195, m grad 3.95e-05, b grad -0.000199\n",
      "Epoch 485, cost 0.0195, m grad 4e-05, b grad -0.000198\n",
      "Epoch 486, cost 0.0195, m grad 4.11e-05, b grad -0.000197\n",
      "Epoch 487, cost 0.0195, m grad 3.97e-05, b grad -0.000196\n",
      "Epoch 488, cost 0.0195, m grad 3.91e-05, b grad -0.000195\n",
      "Epoch 489, cost 0.0195, m grad 3.95e-05, b grad -0.000193\n",
      "Epoch 490, cost 0.0195, m grad 3.89e-05, b grad -0.000192\n",
      "Epoch 491, cost 0.0195, m grad 3.88e-05, b grad -0.000191\n",
      "Epoch 492, cost 0.0195, m grad 3.87e-05, b grad -0.00019\n",
      "Epoch 493, cost 0.0195, m grad 3.81e-05, b grad -0.000189\n",
      "Epoch 494, cost 0.0195, m grad 3.84e-05, b grad -0.000188\n",
      "Epoch 495, cost 0.0195, m grad 3.79e-05, b grad -0.000187\n",
      "Epoch 496, cost 0.0195, m grad 3.75e-05, b grad -0.000186\n",
      "Epoch 497, cost 0.0195, m grad 3.78e-05, b grad -0.000185\n",
      "Epoch 498, cost 0.0195, m grad 3.64e-05, b grad -0.000184\n",
      "Epoch 499, cost 0.0195, m grad 3.67e-05, b grad -0.000183\n",
      "Epoch 500, cost 0.0195, m grad 3.64e-05, b grad -0.000182\n",
      "Epoch 501, cost 0.0195, m grad 3.67e-05, b grad -0.000181\n",
      "Epoch 502, cost 0.0195, m grad 3.64e-05, b grad -0.00018\n",
      "Epoch 503, cost 0.0195, m grad 3.67e-05, b grad -0.000178\n",
      "Epoch 504, cost 0.0195, m grad 3.64e-05, b grad -0.000177\n",
      "Epoch 505, cost 0.0195, m grad 3.67e-05, b grad -0.000176\n",
      "Epoch 506, cost 0.0195, m grad 3.64e-05, b grad -0.000175\n",
      "Epoch 507, cost 0.0195, m grad 3.67e-05, b grad -0.000174\n",
      "Epoch 508, cost 0.0195, m grad 3.64e-05, b grad -0.000173\n",
      "Epoch 509, cost 0.0195, m grad 3.67e-05, b grad -0.000172\n",
      "Epoch 510, cost 0.0195, m grad 3.56e-05, b grad -0.000171\n",
      "Epoch 511, cost 0.0195, m grad 3.51e-05, b grad -0.00017\n",
      "Epoch 512, cost 0.0195, m grad 3.39e-05, b grad -0.00017\n",
      "Epoch 513, cost 0.0195, m grad 3.45e-05, b grad -0.000168\n",
      "Epoch 514, cost 0.0195, m grad 3.31e-05, b grad -0.000168\n",
      "Epoch 515, cost 0.0195, m grad 3.36e-05, b grad -0.000167\n",
      "Epoch 516, cost 0.0195, m grad 3.38e-05, b grad -0.000166\n",
      "Epoch 517, cost 0.0195, m grad 3.39e-05, b grad -0.000165\n",
      "Epoch 518, cost 0.0195, m grad 3.45e-05, b grad -0.000163\n",
      "Epoch 519, cost 0.0195, m grad 3.31e-05, b grad -0.000163\n",
      "Epoch 520, cost 0.0195, m grad 3.36e-05, b grad -0.000162\n",
      "Epoch 521, cost 0.0195, m grad 3.38e-05, b grad -0.000161\n",
      "Epoch 522, cost 0.0195, m grad 3.31e-05, b grad -0.00016\n",
      "Epoch 523, cost 0.0195, m grad 3.28e-05, b grad -0.000159\n",
      "Epoch 524, cost 0.0195, m grad 3.16e-05, b grad -0.000158\n",
      "Epoch 525, cost 0.0195, m grad 3.12e-05, b grad -0.000157\n",
      "Epoch 526, cost 0.0195, m grad 3.19e-05, b grad -0.000156\n",
      "Epoch 527, cost 0.0195, m grad 3.08e-05, b grad -0.000156\n",
      "Epoch 528, cost 0.0195, m grad 3.14e-05, b grad -0.000155\n",
      "Epoch 529, cost 0.0195, m grad 3.11e-05, b grad -0.000154\n",
      "Epoch 530, cost 0.0195, m grad 3.13e-05, b grad -0.000153\n",
      "Epoch 531, cost 0.0195, m grad 3.14e-05, b grad -0.000152\n",
      "Epoch 532, cost 0.0195, m grad 3.11e-05, b grad -0.000151\n",
      "Epoch 533, cost 0.0195, m grad 3.17e-05, b grad -0.00015\n",
      "Epoch 534, cost 0.0195, m grad 3.06e-05, b grad -0.000149\n",
      "Epoch 535, cost 0.0195, m grad 3.13e-05, b grad -0.000148\n",
      "Epoch 536, cost 0.0195, m grad 3.01e-05, b grad -0.000147\n",
      "Epoch 537, cost 0.0195, m grad 2.91e-05, b grad -0.000147\n",
      "Epoch 538, cost 0.0195, m grad 2.89e-05, b grad -0.000146\n",
      "Epoch 539, cost 0.0195, m grad 2.86e-05, b grad -0.000145\n",
      "Epoch 540, cost 0.0195, m grad 2.84e-05, b grad -0.000144\n",
      "Epoch 541, cost 0.0195, m grad 2.74e-05, b grad -0.000144\n",
      "Epoch 542, cost 0.0195, m grad 2.81e-05, b grad -0.000143\n",
      "Epoch 543, cost 0.0195, m grad 2.89e-05, b grad -0.000142\n",
      "Epoch 544, cost 0.0195, m grad 2.86e-05, b grad -0.000141\n",
      "Epoch 545, cost 0.0195, m grad 2.84e-05, b grad -0.00014\n",
      "Epoch 546, cost 0.0195, m grad 2.74e-05, b grad -0.000139\n",
      "Epoch 547, cost 0.0195, m grad 2.81e-05, b grad -0.000138\n",
      "Epoch 548, cost 0.0195, m grad 2.89e-05, b grad -0.000137\n",
      "Epoch 549, cost 0.0195, m grad 2.86e-05, b grad -0.000137\n",
      "Epoch 550, cost 0.0195, m grad 2.76e-05, b grad -0.000136\n",
      "Epoch 551, cost 0.0195, m grad 2.71e-05, b grad -0.000135\n",
      "Epoch 552, cost 0.0195, m grad 2.66e-05, b grad -0.000135\n",
      "Epoch 553, cost 0.0195, m grad 2.64e-05, b grad -0.000134\n",
      "Epoch 554, cost 0.0195, m grad 2.64e-05, b grad -0.000133\n",
      "Epoch 555, cost 0.0195, m grad 2.63e-05, b grad -0.000132\n",
      "Epoch 556, cost 0.0195, m grad 2.61e-05, b grad -0.000132\n",
      "Epoch 557, cost 0.0195, m grad 2.61e-05, b grad -0.000131\n",
      "Epoch 558, cost 0.0195, m grad 2.59e-05, b grad -0.00013\n",
      "Epoch 559, cost 0.0195, m grad 2.54e-05, b grad -0.000129\n",
      "Epoch 560, cost 0.0195, m grad 2.49e-05, b grad -0.000129\n",
      "Epoch 561, cost 0.0195, m grad 2.58e-05, b grad -0.000128\n",
      "Epoch 562, cost 0.0195, m grad 2.56e-05, b grad -0.000127\n",
      "Epoch 563, cost 0.0195, m grad 2.55e-05, b grad -0.000126\n",
      "Epoch 564, cost 0.0195, m grad 2.55e-05, b grad -0.000125\n",
      "Epoch 565, cost 0.0195, m grad 2.53e-05, b grad -0.000125\n",
      "Epoch 566, cost 0.0195, m grad 2.53e-05, b grad -0.000124\n",
      "Epoch 567, cost 0.0195, m grad 2.53e-05, b grad -0.000123\n",
      "Epoch 568, cost 0.0195, m grad 2.53e-05, b grad -0.000122\n",
      "Epoch 569, cost 0.0195, m grad 2.53e-05, b grad -0.000122\n",
      "Epoch 570, cost 0.0195, m grad 2.53e-05, b grad -0.000121\n",
      "Epoch 571, cost 0.0195, m grad 2.53e-05, b grad -0.00012\n",
      "Epoch 572, cost 0.0195, m grad 2.53e-05, b grad -0.00012\n",
      "Epoch 573, cost 0.0195, m grad 2.53e-05, b grad -0.000119\n",
      "Epoch 574, cost 0.0195, m grad 2.53e-05, b grad -0.000118\n",
      "Epoch 575, cost 0.0195, m grad 2.53e-05, b grad -0.000117\n",
      "Epoch 576, cost 0.0195, m grad 2.53e-05, b grad -0.000117\n",
      "Epoch 577, cost 0.0195, m grad 2.53e-05, b grad -0.000116\n",
      "Epoch 578, cost 0.0195, m grad 2.53e-05, b grad -0.000115\n",
      "Epoch 579, cost 0.0195, m grad 2.53e-05, b grad -0.000115\n",
      "Epoch 580, cost 0.0195, m grad 2.53e-05, b grad -0.000114\n",
      "Epoch 581, cost 0.0195, m grad 2.53e-05, b grad -0.000113\n",
      "Epoch 582, cost 0.0195, m grad 2.45e-05, b grad -0.000113\n",
      "Epoch 583, cost 0.0195, m grad 2.36e-05, b grad -0.000112\n",
      "Epoch 584, cost 0.0195, m grad 2.28e-05, b grad -0.000112\n",
      "Epoch 585, cost 0.0195, m grad 2.2e-05, b grad -0.000111\n",
      "Epoch 586, cost 0.0195, m grad 2.21e-05, b grad -0.000111\n",
      "Epoch 587, cost 0.0195, m grad 2.22e-05, b grad -0.00011\n",
      "Epoch 588, cost 0.0195, m grad 2.23e-05, b grad -0.000109\n",
      "Epoch 589, cost 0.0195, m grad 2.24e-05, b grad -0.000109\n",
      "Epoch 590, cost 0.0195, m grad 2.16e-05, b grad -0.000108\n",
      "Epoch 591, cost 0.0195, m grad 2.21e-05, b grad -0.000107\n",
      "Epoch 592, cost 0.0195, m grad 2.26e-05, b grad -0.000107\n",
      "Epoch 593, cost 0.0195, m grad 2.17e-05, b grad -0.000106\n",
      "Epoch 594, cost 0.0195, m grad 2.19e-05, b grad -0.000106\n",
      "Epoch 595, cost 0.0195, m grad 2.2e-05, b grad -0.000105\n",
      "Epoch 596, cost 0.0195, m grad 2.2e-05, b grad -0.000104\n",
      "Epoch 597, cost 0.0195, m grad 2.22e-05, b grad -0.000103\n",
      "Epoch 598, cost 0.0195, m grad 2.23e-05, b grad -0.000103\n",
      "Epoch 599, cost 0.0195, m grad 2.24e-05, b grad -0.000102\n",
      "Epoch 600, cost 0.0195, m grad 2.16e-05, b grad -0.000102\n",
      "Epoch 601, cost 0.0195, m grad 2.21e-05, b grad -0.000101\n",
      "Epoch 602, cost 0.0195, m grad 2.17e-05, b grad -0.0001\n",
      "Epoch 603, cost 0.0195, m grad 2.11e-05, b grad -0.0001\n",
      "Epoch 604, cost 0.0195, m grad 2.03e-05, b grad -9.96e-05\n",
      "Epoch 605, cost 0.0195, m grad 1.95e-05, b grad -9.92e-05\n",
      "Epoch 606, cost 0.0195, m grad 1.89e-05, b grad -9.87e-05\n",
      "Epoch 607, cost 0.0195, m grad 1.91e-05, b grad -9.81e-05\n",
      "Epoch 608, cost 0.0195, m grad 2.01e-05, b grad -9.73e-05\n",
      "Epoch 609, cost 0.0195, m grad 1.94e-05, b grad -9.69e-05\n",
      "Epoch 610, cost 0.0195, m grad 1.86e-05, b grad -9.65e-05\n",
      "Epoch 611, cost 0.0195, m grad 1.89e-05, b grad -9.59e-05\n",
      "Epoch 612, cost 0.0195, m grad 1.91e-05, b grad -9.52e-05\n",
      "Epoch 613, cost 0.0195, m grad 2.01e-05, b grad -9.45e-05\n",
      "Epoch 614, cost 0.0195, m grad 1.94e-05, b grad -9.4e-05\n",
      "Epoch 615, cost 0.0195, m grad 1.86e-05, b grad -9.36e-05\n",
      "Epoch 616, cost 0.0195, m grad 1.89e-05, b grad -9.3e-05\n",
      "Epoch 617, cost 0.0195, m grad 1.91e-05, b grad -9.24e-05\n",
      "Epoch 618, cost 0.0195, m grad 2.01e-05, b grad -9.16e-05\n",
      "Epoch 619, cost 0.0195, m grad 1.94e-05, b grad -9.12e-05\n",
      "Epoch 620, cost 0.0195, m grad 1.86e-05, b grad -9.08e-05\n",
      "Epoch 621, cost 0.0195, m grad 1.89e-05, b grad -9.01e-05\n",
      "Epoch 622, cost 0.0195, m grad 1.91e-05, b grad -8.95e-05\n",
      "Epoch 623, cost 0.0195, m grad 2.01e-05, b grad -8.88e-05\n",
      "Epoch 624, cost 0.0195, m grad 1.86e-05, b grad -8.86e-05\n",
      "Epoch 625, cost 0.0195, m grad 1.79e-05, b grad -8.82e-05\n",
      "Epoch 626, cost 0.0195, m grad 1.73e-05, b grad -8.78e-05\n",
      "Epoch 627, cost 0.0195, m grad 1.71e-05, b grad -8.74e-05\n",
      "Epoch 628, cost 0.0195, m grad 1.69e-05, b grad -8.69e-05\n",
      "Epoch 629, cost 0.0195, m grad 1.63e-05, b grad -8.65e-05\n",
      "Epoch 630, cost 0.0195, m grad 1.66e-05, b grad -8.59e-05\n",
      "Epoch 631, cost 0.0195, m grad 1.67e-05, b grad -8.54e-05\n",
      "Epoch 632, cost 0.0195, m grad 1.61e-05, b grad -8.5e-05\n",
      "Epoch 633, cost 0.0195, m grad 1.64e-05, b grad -8.45e-05\n",
      "Epoch 634, cost 0.0195, m grad 1.62e-05, b grad -8.4e-05\n",
      "Epoch 635, cost 0.0195, m grad 1.7e-05, b grad -8.34e-05\n",
      "Epoch 636, cost 0.0195, m grad 1.64e-05, b grad -8.3e-05\n",
      "Epoch 637, cost 0.0195, m grad 1.71e-05, b grad -8.23e-05\n",
      "Epoch 638, cost 0.0195, m grad 1.69e-05, b grad -8.19e-05\n",
      "Epoch 639, cost 0.0195, m grad 1.62e-05, b grad -8.15e-05\n",
      "Epoch 640, cost 0.0195, m grad 1.66e-05, b grad -8.09e-05\n",
      "Epoch 641, cost 0.0195, m grad 1.67e-05, b grad -8.04e-05\n",
      "Epoch 642, cost 0.0195, m grad 1.61e-05, b grad -8e-05\n",
      "Epoch 643, cost 0.0195, m grad 1.64e-05, b grad -7.95e-05\n",
      "Epoch 644, cost 0.0195, m grad 1.62e-05, b grad -7.9e-05\n",
      "Epoch 645, cost 0.0195, m grad 1.7e-05, b grad -7.84e-05\n",
      "Epoch 646, cost 0.0195, m grad 1.64e-05, b grad -7.8e-05\n",
      "Epoch 647, cost 0.0195, m grad 1.71e-05, b grad -7.73e-05\n",
      "Epoch 648, cost 0.0195, m grad 1.61e-05, b grad -7.71e-05\n",
      "Epoch 649, cost 0.0195, m grad 1.55e-05, b grad -7.68e-05\n",
      "Epoch 650, cost 0.0195, m grad 1.54e-05, b grad -7.64e-05\n",
      "Epoch 651, cost 0.0195, m grad 1.53e-05, b grad -7.6e-05\n",
      "Epoch 652, cost 0.0195, m grad 1.47e-05, b grad -7.57e-05\n",
      "Epoch 653, cost 0.0195, m grad 1.51e-05, b grad -7.52e-05\n",
      "Epoch 654, cost 0.0195, m grad 1.45e-05, b grad -7.48e-05\n",
      "Epoch 655, cost 0.0195, m grad 1.41e-05, b grad -7.45e-05\n",
      "Epoch 656, cost 0.0195, m grad 1.44e-05, b grad -7.4e-05\n",
      "Epoch 657, cost 0.0195, m grad 1.39e-05, b grad -7.37e-05\n",
      "Epoch 658, cost 0.0195, m grad 1.37e-05, b grad -7.33e-05\n",
      "Epoch 659, cost 0.0195, m grad 1.36e-05, b grad -7.29e-05\n",
      "Epoch 660, cost 0.0195, m grad 1.31e-05, b grad -7.26e-05\n",
      "Epoch 661, cost 0.0195, m grad 1.44e-05, b grad -7.19e-05\n",
      "Epoch 662, cost 0.0195, m grad 1.39e-05, b grad -7.15e-05\n",
      "Epoch 663, cost 0.0195, m grad 1.37e-05, b grad -7.11e-05\n",
      "Epoch 664, cost 0.0195, m grad 1.36e-05, b grad -7.07e-05\n",
      "Epoch 665, cost 0.0195, m grad 1.31e-05, b grad -7.04e-05\n",
      "Epoch 666, cost 0.0195, m grad 1.44e-05, b grad -6.97e-05\n",
      "Epoch 667, cost 0.0195, m grad 1.39e-05, b grad -6.94e-05\n",
      "Epoch 668, cost 0.0195, m grad 1.37e-05, b grad -6.9e-05\n",
      "Epoch 669, cost 0.0195, m grad 1.36e-05, b grad -6.86e-05\n",
      "Epoch 670, cost 0.0195, m grad 1.31e-05, b grad -6.83e-05\n",
      "Epoch 671, cost 0.0195, m grad 1.44e-05, b grad -6.76e-05\n",
      "Epoch 672, cost 0.0195, m grad 1.39e-05, b grad -6.72e-05\n",
      "Epoch 673, cost 0.0195, m grad 1.37e-05, b grad -6.68e-05\n",
      "Epoch 674, cost 0.0195, m grad 1.36e-05, b grad -6.64e-05\n",
      "Epoch 675, cost 0.0195, m grad 1.31e-05, b grad -6.61e-05\n",
      "Epoch 676, cost 0.0195, m grad 1.44e-05, b grad -6.54e-05\n",
      "Epoch 677, cost 0.0195, m grad 1.3e-05, b grad -6.53e-05\n",
      "Epoch 678, cost 0.0195, m grad 1.34e-05, b grad -6.49e-05\n",
      "Epoch 679, cost 0.0195, m grad 1.3e-05, b grad -6.46e-05\n",
      "Epoch 680, cost 0.0195, m grad 1.34e-05, b grad -6.42e-05\n",
      "Epoch 681, cost 0.0195, m grad 1.3e-05, b grad -6.39e-05\n",
      "Epoch 682, cost 0.0195, m grad 1.34e-05, b grad -6.35e-05\n",
      "Epoch 683, cost 0.0195, m grad 1.3e-05, b grad -6.32e-05\n",
      "Epoch 684, cost 0.0195, m grad 1.34e-05, b grad -6.28e-05\n",
      "Epoch 685, cost 0.0195, m grad 1.3e-05, b grad -6.25e-05\n",
      "Epoch 686, cost 0.0195, m grad 1.34e-05, b grad -6.21e-05\n",
      "Epoch 687, cost 0.0195, m grad 1.3e-05, b grad -6.18e-05\n",
      "Epoch 688, cost 0.0195, m grad 1.34e-05, b grad -6.13e-05\n",
      "Epoch 689, cost 0.0195, m grad 1.3e-05, b grad -6.11e-05\n",
      "Epoch 690, cost 0.0195, m grad 1.34e-05, b grad -6.06e-05\n",
      "Epoch 691, cost 0.0195, m grad 1.3e-05, b grad -6.03e-05\n",
      "Epoch 692, cost 0.0195, m grad 1.34e-05, b grad -5.99e-05\n",
      "Epoch 693, cost 0.0195, m grad 1.3e-05, b grad -5.96e-05\n",
      "Epoch 694, cost 0.0195, m grad 1.34e-05, b grad -5.92e-05\n",
      "Epoch 695, cost 0.0195, m grad 1.3e-05, b grad -5.89e-05\n",
      "Epoch 696, cost 0.0195, m grad 1.34e-05, b grad -5.85e-05\n",
      "Epoch 697, cost 0.0195, m grad 1.3e-05, b grad -5.82e-05\n",
      "Epoch 698, cost 0.0195, m grad 1.34e-05, b grad -5.78e-05\n",
      "Epoch 699, cost 0.0195, m grad 1.3e-05, b grad -5.75e-05\n",
      "Epoch 700, cost 0.0195, m grad 1.34e-05, b grad -5.71e-05\n",
      "Epoch 701, cost 0.0195, m grad 1.3e-05, b grad -5.68e-05\n",
      "Epoch 702, cost 0.0195, m grad 1.34e-05, b grad -5.63e-05\n",
      "Epoch 703, cost 0.0195, m grad 1.3e-05, b grad -5.6e-05\n",
      "Epoch 704, cost 0.0195, m grad 1.34e-05, b grad -5.56e-05\n",
      "Epoch 705, cost 0.0195, m grad 1.3e-05, b grad -5.53e-05\n",
      "Epoch 706, cost 0.0195, m grad 1.34e-05, b grad -5.49e-05\n",
      "Epoch 707, cost 0.0195, m grad 1.3e-05, b grad -5.46e-05\n",
      "Epoch 708, cost 0.0195, m grad 1.34e-05, b grad -5.42e-05\n",
      "Epoch 709, cost 0.0195, m grad 1.3e-05, b grad -5.39e-05\n",
      "Epoch 710, cost 0.0195, m grad 1.34e-05, b grad -5.35e-05\n",
      "Epoch 711, cost 0.0195, m grad 1.22e-05, b grad -5.34e-05\n",
      "Epoch 712, cost 0.0195, m grad 1.17e-05, b grad -5.32e-05\n",
      "Epoch 713, cost 0.0195, m grad 1.05e-05, b grad -5.32e-05\n",
      "Epoch 714, cost 0.0195, m grad 1e-05, b grad -5.3e-05\n",
      "Epoch 715, cost 0.0195, m grad 9.72e-06, b grad -5.28e-05\n",
      "Epoch 716, cost 0.0195, m grad 1.03e-05, b grad -5.24e-05\n",
      "Epoch 717, cost 0.0195, m grad 1.04e-05, b grad -5.21e-05\n",
      "Epoch 718, cost 0.0195, m grad 1.05e-05, b grad -5.18e-05\n",
      "Epoch 719, cost 0.0195, m grad 1e-05, b grad -5.16e-05\n",
      "Epoch 720, cost 0.0195, m grad 9.72e-06, b grad -5.13e-05\n",
      "Epoch 721, cost 0.0195, m grad 1.03e-05, b grad -5.09e-05\n",
      "Epoch 722, cost 0.0195, m grad 1.04e-05, b grad -5.06e-05\n",
      "Epoch 723, cost 0.0195, m grad 1.05e-05, b grad -5.03e-05\n",
      "Epoch 724, cost 0.0195, m grad 1e-05, b grad -5.01e-05\n",
      "Epoch 725, cost 0.0195, m grad 9.72e-06, b grad -4.99e-05\n",
      "Epoch 726, cost 0.0195, m grad 1.03e-05, b grad -4.95e-05\n",
      "Epoch 727, cost 0.0195, m grad 1.04e-05, b grad -4.92e-05\n",
      "Epoch 728, cost 0.0195, m grad 1.05e-05, b grad -4.89e-05\n",
      "Epoch 729, cost 0.0195, m grad 1e-05, b grad -4.87e-05\n",
      "Epoch 730, cost 0.0195, m grad 9.72e-06, b grad -4.85e-05\n",
      "Epoch 731, cost 0.0195, m grad 1.03e-05, b grad -4.81e-05\n",
      "Epoch 732, cost 0.0195, m grad 1.04e-05, b grad -4.78e-05\n",
      "Epoch 733, cost 0.0195, m grad 1.05e-05, b grad -4.75e-05\n",
      "Epoch 734, cost 0.0195, m grad 1e-05, b grad -4.73e-05\n",
      "Epoch 735, cost 0.0195, m grad 9.72e-06, b grad -4.71e-05\n",
      "Epoch 736, cost 0.0195, m grad 1.03e-05, b grad -4.67e-05\n",
      "Epoch 737, cost 0.0195, m grad 1.04e-05, b grad -4.63e-05\n",
      "Epoch 738, cost 0.0195, m grad 1.05e-05, b grad -4.6e-05\n",
      "Epoch 739, cost 0.0195, m grad 1e-05, b grad -4.59e-05\n",
      "Epoch 740, cost 0.0195, m grad 9.72e-06, b grad -4.56e-05\n",
      "Epoch 741, cost 0.0195, m grad 1.03e-05, b grad -4.52e-05\n",
      "Epoch 742, cost 0.0195, m grad 1.04e-05, b grad -4.49e-05\n",
      "Epoch 743, cost 0.0195, m grad 1.05e-05, b grad -4.46e-05\n",
      "Epoch 744, cost 0.0195, m grad 1e-05, b grad -4.44e-05\n",
      "Epoch 745, cost 0.0195, m grad 9.72e-06, b grad -4.42e-05\n",
      "Epoch 746, cost 0.0195, m grad 1.03e-05, b grad -4.38e-05\n",
      "Epoch 747, cost 0.0195, m grad 1.04e-05, b grad -4.35e-05\n",
      "Epoch 748, cost 0.0195, m grad 1.05e-05, b grad -4.32e-05\n",
      "Epoch 749, cost 0.0195, m grad 1e-05, b grad -4.3e-05\n",
      "Epoch 750, cost 0.0195, m grad 9.72e-06, b grad -4.28e-05\n",
      "Epoch 751, cost 0.0195, m grad 1.03e-05, b grad -4.24e-05\n",
      "Epoch 752, cost 0.0195, m grad 1.04e-05, b grad -4.21e-05\n",
      "Epoch 753, cost 0.0195, m grad 1.05e-05, b grad -4.17e-05\n",
      "Epoch 754, cost 0.0195, m grad 1e-05, b grad -4.16e-05\n",
      "Epoch 755, cost 0.0195, m grad 8.91e-06, b grad -4.15e-05\n",
      "Epoch 756, cost 0.0195, m grad 8.61e-06, b grad -4.14e-05\n",
      "Epoch 757, cost 0.0195, m grad 7.9e-06, b grad -4.13e-05\n",
      "Epoch 758, cost 0.0195, m grad 7.18e-06, b grad -4.13e-05\n",
      "Epoch 759, cost 0.0195, m grad 7.78e-06, b grad -4.09e-05\n",
      "Epoch 760, cost 0.0195, m grad 7.06e-06, b grad -4.09e-05\n",
      "Epoch 761, cost 0.0195, m grad 7.24e-06, b grad -4.06e-05\n",
      "Epoch 762, cost 0.0195, m grad 7.96e-06, b grad -4.03e-05\n",
      "Epoch 763, cost 0.0195, m grad 7.54e-06, b grad -4.01e-05\n",
      "Epoch 764, cost 0.0195, m grad 6.38e-06, b grad -4.01e-05\n",
      "Epoch 765, cost 0.0195, m grad 7e-06, b grad -3.98e-05\n",
      "Epoch 766, cost 0.0195, m grad 7.75e-06, b grad -3.94e-05\n",
      "Epoch 767, cost 0.0195, m grad 6.59e-06, b grad -3.94e-05\n",
      "Epoch 768, cost 0.0195, m grad 7.18e-06, b grad -3.91e-05\n",
      "Epoch 769, cost 0.0195, m grad 7.78e-06, b grad -3.88e-05\n",
      "Epoch 770, cost 0.0195, m grad 7.06e-06, b grad -3.87e-05\n",
      "Epoch 771, cost 0.0195, m grad 7.24e-06, b grad -3.84e-05\n",
      "Epoch 772, cost 0.0195, m grad 7.84e-06, b grad -3.81e-05\n",
      "Epoch 773, cost 0.0195, m grad 7.54e-06, b grad -3.8e-05\n",
      "Epoch 774, cost 0.0195, m grad 6.38e-06, b grad -3.8e-05\n",
      "Epoch 775, cost 0.0195, m grad 7.12e-06, b grad -3.76e-05\n",
      "Epoch 776, cost 0.0195, m grad 7.75e-06, b grad -3.73e-05\n",
      "Epoch 777, cost 0.0195, m grad 6.59e-06, b grad -3.73e-05\n",
      "Epoch 778, cost 0.0195, m grad 7.18e-06, b grad -3.7e-05\n",
      "Epoch 779, cost 0.0195, m grad 7.78e-06, b grad -3.66e-05\n",
      "Epoch 780, cost 0.0195, m grad 7.06e-06, b grad -3.66e-05\n",
      "Epoch 781, cost 0.0195, m grad 7.24e-06, b grad -3.63e-05\n",
      "Epoch 782, cost 0.0195, m grad 7.96e-06, b grad -3.6e-05\n",
      "Epoch 783, cost 0.0195, m grad 7.54e-06, b grad -3.58e-05\n",
      "Epoch 784, cost 0.0195, m grad 6.38e-06, b grad -3.59e-05\n",
      "Epoch 785, cost 0.0195, m grad 7e-06, b grad -3.55e-05\n",
      "Epoch 786, cost 0.0195, m grad 7.75e-06, b grad -3.51e-05\n",
      "Epoch 787, cost 0.0195, m grad 6.59e-06, b grad -3.52e-05\n",
      "Epoch 788, cost 0.0195, m grad 7.18e-06, b grad -3.48e-05\n",
      "Epoch 789, cost 0.0195, m grad 7.78e-06, b grad -3.45e-05\n",
      "Epoch 790, cost 0.0195, m grad 7.06e-06, b grad -3.44e-05\n",
      "Epoch 791, cost 0.0195, m grad 7.24e-06, b grad -3.42e-05\n",
      "Epoch 792, cost 0.0195, m grad 7.84e-06, b grad -3.38e-05\n",
      "Epoch 793, cost 0.0195, m grad 7.54e-06, b grad -3.37e-05\n",
      "Epoch 794, cost 0.0195, m grad 6.38e-06, b grad -3.37e-05\n",
      "Epoch 795, cost 0.0195, m grad 7.12e-06, b grad -3.33e-05\n",
      "Epoch 796, cost 0.0195, m grad 7.75e-06, b grad -3.3e-05\n",
      "Epoch 797, cost 0.0195, m grad 6.59e-06, b grad -3.3e-05\n",
      "Epoch 798, cost 0.0195, m grad 7.18e-06, b grad -3.27e-05\n",
      "Epoch 799, cost 0.0195, m grad 7.78e-06, b grad -3.24e-05\n",
      "Epoch 800, cost 0.0195, m grad 7.06e-06, b grad -3.23e-05\n",
      "Epoch 801, cost 0.0195, m grad 7.24e-06, b grad -3.2e-05\n",
      "Epoch 802, cost 0.0195, m grad 7.96e-06, b grad -3.17e-05\n",
      "Epoch 803, cost 0.0195, m grad 7.54e-06, b grad -3.15e-05\n",
      "Epoch 804, cost 0.0195, m grad 6.38e-06, b grad -3.16e-05\n",
      "Epoch 805, cost 0.0195, m grad 7e-06, b grad -3.12e-05\n",
      "Epoch 806, cost 0.0195, m grad 7.75e-06, b grad -3.08e-05\n",
      "Epoch 807, cost 0.0195, m grad 6.59e-06, b grad -3.09e-05\n",
      "Epoch 808, cost 0.0195, m grad 7.18e-06, b grad -3.05e-05\n",
      "Epoch 809, cost 0.0195, m grad 7.78e-06, b grad -3.02e-05\n",
      "Epoch 810, cost 0.0195, m grad 7.06e-06, b grad -3.01e-05\n",
      "Epoch 811, cost 0.0195, m grad 7.24e-06, b grad -2.99e-05\n",
      "Epoch 812, cost 0.0195, m grad 7.84e-06, b grad -2.95e-05\n",
      "Epoch 813, cost 0.0195, m grad 6.71e-06, b grad -2.96e-05\n",
      "Epoch 814, cost 0.0195, m grad 5.75e-06, b grad -2.97e-05\n",
      "Epoch 815, cost 0.0195, m grad 5.51e-06, b grad -2.96e-05\n",
      "Epoch 816, cost 0.0195, m grad 5.28e-06, b grad -2.95e-05\n",
      "Epoch 817, cost 0.0195, m grad 5.04e-06, b grad -2.94e-05\n",
      "Epoch 818, cost 0.0195, m grad 4.08e-06, b grad -2.94e-05\n",
      "Epoch 819, cost 0.0195, m grad 4.71e-06, b grad -2.92e-05\n",
      "Epoch 820, cost 0.0195, m grad 4.5e-06, b grad -2.91e-05\n",
      "Epoch 821, cost 0.0195, m grad 4.41e-06, b grad -2.89e-05\n",
      "Epoch 822, cost 0.0195, m grad 5.04e-06, b grad -2.87e-05\n",
      "Epoch 823, cost 0.0195, m grad 4.08e-06, b grad -2.87e-05\n",
      "Epoch 824, cost 0.0195, m grad 4.71e-06, b grad -2.85e-05\n",
      "Epoch 825, cost 0.0195, m grad 4.62e-06, b grad -2.83e-05\n",
      "Epoch 826, cost 0.0195, m grad 4.41e-06, b grad -2.82e-05\n",
      "Epoch 827, cost 0.0195, m grad 5.04e-06, b grad -2.8e-05\n",
      "Epoch 828, cost 0.0195, m grad 4.08e-06, b grad -2.8e-05\n",
      "Epoch 829, cost 0.0195, m grad 4.71e-06, b grad -2.77e-05\n",
      "Epoch 830, cost 0.0195, m grad 4.5e-06, b grad -2.76e-05\n",
      "Epoch 831, cost 0.0195, m grad 4.41e-06, b grad -2.75e-05\n",
      "Epoch 832, cost 0.0195, m grad 5.04e-06, b grad -2.73e-05\n",
      "Epoch 833, cost 0.0195, m grad 4.08e-06, b grad -2.73e-05\n",
      "Epoch 834, cost 0.0195, m grad 4.71e-06, b grad -2.7e-05\n",
      "Epoch 835, cost 0.0195, m grad 4.62e-06, b grad -2.69e-05\n",
      "Epoch 836, cost 0.0195, m grad 4.41e-06, b grad -2.68e-05\n",
      "Epoch 837, cost 0.0195, m grad 5.04e-06, b grad -2.65e-05\n",
      "Epoch 838, cost 0.0195, m grad 4.08e-06, b grad -2.66e-05\n",
      "Epoch 839, cost 0.0195, m grad 4.71e-06, b grad -2.63e-05\n",
      "Epoch 840, cost 0.0195, m grad 4.5e-06, b grad -2.62e-05\n",
      "Epoch 841, cost 0.0195, m grad 4.41e-06, b grad -2.61e-05\n",
      "Epoch 842, cost 0.0195, m grad 5.04e-06, b grad -2.58e-05\n",
      "Epoch 843, cost 0.0195, m grad 4.08e-06, b grad -2.59e-05\n",
      "Epoch 844, cost 0.0195, m grad 4.71e-06, b grad -2.56e-05\n",
      "Epoch 845, cost 0.0195, m grad 4.62e-06, b grad -2.55e-05\n",
      "Epoch 846, cost 0.0195, m grad 4.41e-06, b grad -2.54e-05\n",
      "Epoch 847, cost 0.0195, m grad 5.04e-06, b grad -2.51e-05\n",
      "Epoch 848, cost 0.0195, m grad 4.08e-06, b grad -2.51e-05\n",
      "Epoch 849, cost 0.0195, m grad 4.71e-06, b grad -2.49e-05\n",
      "Epoch 850, cost 0.0195, m grad 4.5e-06, b grad -2.48e-05\n",
      "Epoch 851, cost 0.0195, m grad 4.41e-06, b grad -2.46e-05\n",
      "Epoch 852, cost 0.0195, m grad 5.04e-06, b grad -2.44e-05\n",
      "Epoch 853, cost 0.0195, m grad 4.08e-06, b grad -2.44e-05\n",
      "Epoch 854, cost 0.0195, m grad 4.71e-06, b grad -2.42e-05\n",
      "Epoch 855, cost 0.0195, m grad 4.62e-06, b grad -2.41e-05\n",
      "Epoch 856, cost 0.0195, m grad 4.41e-06, b grad -2.39e-05\n",
      "Epoch 857, cost 0.0195, m grad 5.04e-06, b grad -2.37e-05\n",
      "Epoch 858, cost 0.0195, m grad 4.08e-06, b grad -2.37e-05\n",
      "Epoch 859, cost 0.0195, m grad 4.71e-06, b grad -2.35e-05\n",
      "Epoch 860, cost 0.0195, m grad 4.5e-06, b grad -2.33e-05\n",
      "Epoch 861, cost 0.0195, m grad 4.41e-06, b grad -2.32e-05\n",
      "Epoch 862, cost 0.0195, m grad 5.04e-06, b grad -2.3e-05\n",
      "Epoch 863, cost 0.0195, m grad 4.08e-06, b grad -2.3e-05\n",
      "Epoch 864, cost 0.0195, m grad 4.71e-06, b grad -2.27e-05\n",
      "Epoch 865, cost 0.0195, m grad 4.62e-06, b grad -2.26e-05\n",
      "Epoch 866, cost 0.0195, m grad 4.41e-06, b grad -2.25e-05\n",
      "Epoch 867, cost 0.0195, m grad 5.04e-06, b grad -2.22e-05\n",
      "Epoch 868, cost 0.0195, m grad 4.08e-06, b grad -2.23e-05\n",
      "Epoch 869, cost 0.0195, m grad 4.71e-06, b grad -2.2e-05\n",
      "Epoch 870, cost 0.0195, m grad 4.5e-06, b grad -2.19e-05\n",
      "Epoch 871, cost 0.0195, m grad 4.41e-06, b grad -2.18e-05\n",
      "Epoch 872, cost 0.0195, m grad 5.04e-06, b grad -2.15e-05\n",
      "Epoch 873, cost 0.0195, m grad 4.08e-06, b grad -2.16e-05\n",
      "Epoch 874, cost 0.0195, m grad 4.71e-06, b grad -2.13e-05\n",
      "Epoch 875, cost 0.0195, m grad 4.62e-06, b grad -2.12e-05\n",
      "Epoch 876, cost 0.0195, m grad 4.41e-06, b grad -2.11e-05\n",
      "Epoch 877, cost 0.0195, m grad 5.04e-06, b grad -2.08e-05\n",
      "Epoch 878, cost 0.0195, m grad 4.08e-06, b grad -2.08e-05\n",
      "Epoch 879, cost 0.0195, m grad 4.71e-06, b grad -2.06e-05\n",
      "Epoch 880, cost 0.0195, m grad 4.5e-06, b grad -2.05e-05\n",
      "Epoch 881, cost 0.0195, m grad 4.41e-06, b grad -2.04e-05\n",
      "Epoch 882, cost 0.0195, m grad 5.04e-06, b grad -2.01e-05\n",
      "Epoch 883, cost 0.0195, m grad 4.08e-06, b grad -2.01e-05\n",
      "Epoch 884, cost 0.0195, m grad 4.71e-06, b grad -1.99e-05\n",
      "Epoch 885, cost 0.0195, m grad 4.62e-06, b grad -1.98e-05\n",
      "Epoch 886, cost 0.0195, m grad 4.41e-06, b grad -1.96e-05\n",
      "Epoch 887, cost 0.0195, m grad 5.04e-06, b grad -1.94e-05\n",
      "Epoch 888, cost 0.0195, m grad 4.08e-06, b grad -1.94e-05\n",
      "Epoch 889, cost 0.0195, m grad 4.71e-06, b grad -1.92e-05\n",
      "Epoch 890, cost 0.0195, m grad 4.5e-06, b grad -1.9e-05\n",
      "Epoch 891, cost 0.0195, m grad 4.41e-06, b grad -1.89e-05\n",
      "Epoch 892, cost 0.0195, m grad 5.04e-06, b grad -1.87e-05\n",
      "Epoch 893, cost 0.0195, m grad 4.08e-06, b grad -1.87e-05\n",
      "Epoch 894, cost 0.0195, m grad 4.71e-06, b grad -1.84e-05\n",
      "Epoch 895, cost 0.0195, m grad 4.62e-06, b grad -1.83e-05\n",
      "Epoch 896, cost 0.0195, m grad 4.41e-06, b grad -1.82e-05\n",
      "Epoch 897, cost 0.0195, m grad 5.04e-06, b grad -1.8e-05\n",
      "Epoch 898, cost 0.0195, m grad 4.08e-06, b grad -1.8e-05\n",
      "Epoch 899, cost 0.0195, m grad 4.71e-06, b grad -1.77e-05\n",
      "Epoch 900, cost 0.0195, m grad 3.67e-06, b grad -1.79e-05\n",
      "Epoch 901, cost 0.0195, m grad 3.61e-06, b grad -1.78e-05\n",
      "Epoch 902, cost 0.0195, m grad 3.55e-06, b grad -1.78e-05\n",
      "Epoch 903, cost 0.0195, m grad 3.37e-06, b grad -1.77e-05\n",
      "Epoch 904, cost 0.0195, m grad 2.89e-06, b grad -1.77e-05\n",
      "Epoch 905, cost 0.0195, m grad 2.41e-06, b grad -1.77e-05\n",
      "Epoch 906, cost 0.0195, m grad 2.24e-06, b grad -1.77e-05\n",
      "Epoch 907, cost 0.0195, m grad 2.18e-06, b grad -1.77e-05\n",
      "Epoch 908, cost 0.0195, m grad 2.12e-06, b grad -1.76e-05\n",
      "Epoch 909, cost 0.0195, m grad 1.94e-06, b grad -1.76e-05\n",
      "Epoch 910, cost 0.0195, m grad 1.88e-06, b grad -1.75e-05\n",
      "Epoch 911, cost 0.0195, m grad 1.7e-06, b grad -1.75e-05\n",
      "Epoch 912, cost 0.0195, m grad 1.22e-06, b grad -1.75e-05\n",
      "Epoch 913, cost 0.0195, m grad 2.06e-06, b grad -1.73e-05\n",
      "Epoch 914, cost 0.0195, m grad 1.58e-06, b grad -1.73e-05\n",
      "Epoch 915, cost 0.0195, m grad 1.37e-06, b grad -1.73e-05\n",
      "Epoch 916, cost 0.0195, m grad 2.24e-06, b grad -1.7e-05\n",
      "Epoch 917, cost 0.0195, m grad 2.18e-06, b grad -1.69e-05\n",
      "Epoch 918, cost 0.0195, m grad 2e-06, b grad -1.69e-05\n",
      "Epoch 919, cost 0.0195, m grad 1.94e-06, b grad -1.69e-05\n",
      "Epoch 920, cost 0.0195, m grad 1.88e-06, b grad -1.68e-05\n",
      "Epoch 921, cost 0.0195, m grad 1.7e-06, b grad -1.68e-05\n",
      "Epoch 922, cost 0.0195, m grad 1.22e-06, b grad -1.68e-05\n",
      "Epoch 923, cost 0.0195, m grad 2.06e-06, b grad -1.65e-05\n",
      "Epoch 924, cost 0.0195, m grad 1.58e-06, b grad -1.66e-05\n",
      "Epoch 925, cost 0.0195, m grad 1.37e-06, b grad -1.65e-05\n",
      "Epoch 926, cost 0.0195, m grad 2.24e-06, b grad -1.63e-05\n",
      "Epoch 927, cost 0.0195, m grad 2.18e-06, b grad -1.62e-05\n",
      "Epoch 928, cost 0.0195, m grad 2.12e-06, b grad -1.62e-05\n",
      "Epoch 929, cost 0.0195, m grad 1.94e-06, b grad -1.61e-05\n",
      "Epoch 930, cost 0.0195, m grad 1.88e-06, b grad -1.61e-05\n",
      "Epoch 931, cost 0.0195, m grad 1.7e-06, b grad -1.6e-05\n",
      "Epoch 932, cost 0.0195, m grad 1.22e-06, b grad -1.61e-05\n",
      "Epoch 933, cost 0.0195, m grad 2.06e-06, b grad -1.58e-05\n",
      "Epoch 934, cost 0.0195, m grad 1.58e-06, b grad -1.58e-05\n",
      "Epoch 935, cost 0.0195, m grad 1.37e-06, b grad -1.58e-05\n",
      "Epoch 936, cost 0.0195, m grad 2.24e-06, b grad -1.56e-05\n",
      "Epoch 937, cost 0.0195, m grad 2.18e-06, b grad -1.55e-05\n",
      "Epoch 938, cost 0.0195, m grad 2e-06, b grad -1.55e-05\n",
      "Epoch 939, cost 0.0195, m grad 1.94e-06, b grad -1.54e-05\n",
      "Epoch 940, cost 0.0195, m grad 1.88e-06, b grad -1.54e-05\n",
      "Epoch 941, cost 0.0195, m grad 1.7e-06, b grad -1.53e-05\n",
      "Epoch 942, cost 0.0195, m grad 1.22e-06, b grad -1.53e-05\n",
      "Epoch 943, cost 0.0195, m grad 2.06e-06, b grad -1.51e-05\n",
      "Epoch 944, cost 0.0195, m grad 1.58e-06, b grad -1.51e-05\n",
      "Epoch 945, cost 0.0195, m grad 1.37e-06, b grad -1.51e-05\n",
      "Epoch 946, cost 0.0195, m grad 2.24e-06, b grad -1.48e-05\n",
      "Epoch 947, cost 0.0195, m grad 2.18e-06, b grad -1.48e-05\n",
      "Epoch 948, cost 0.0195, m grad 2.12e-06, b grad -1.48e-05\n",
      "Epoch 949, cost 0.0195, m grad 1.94e-06, b grad -1.47e-05\n",
      "Epoch 950, cost 0.0195, m grad 1.88e-06, b grad -1.47e-05\n",
      "Epoch 951, cost 0.0195, m grad 1.7e-06, b grad -1.46e-05\n",
      "Epoch 952, cost 0.0195, m grad 1.22e-06, b grad -1.46e-05\n",
      "Epoch 953, cost 0.0195, m grad 2.06e-06, b grad -1.44e-05\n",
      "Epoch 954, cost 0.0195, m grad 1.58e-06, b grad -1.44e-05\n",
      "Epoch 955, cost 0.0195, m grad 1.37e-06, b grad -1.44e-05\n",
      "Epoch 956, cost 0.0195, m grad 2.24e-06, b grad -1.41e-05\n",
      "Epoch 957, cost 0.0195, m grad 2.18e-06, b grad -1.41e-05\n",
      "Epoch 958, cost 0.0195, m grad 2e-06, b grad -1.4e-05\n",
      "Epoch 959, cost 0.0195, m grad 1.94e-06, b grad -1.4e-05\n",
      "Epoch 960, cost 0.0195, m grad 1.88e-06, b grad -1.39e-05\n",
      "Epoch 961, cost 0.0195, m grad 1.7e-06, b grad -1.39e-05\n",
      "Epoch 962, cost 0.0195, m grad 1.22e-06, b grad -1.39e-05\n",
      "Epoch 963, cost 0.0195, m grad 2.06e-06, b grad -1.37e-05\n",
      "Epoch 964, cost 0.0195, m grad 1.58e-06, b grad -1.37e-05\n",
      "Epoch 965, cost 0.0195, m grad 1.37e-06, b grad -1.37e-05\n",
      "Epoch 966, cost 0.0195, m grad 2.24e-06, b grad -1.34e-05\n",
      "Epoch 967, cost 0.0195, m grad 2.18e-06, b grad -1.34e-05\n",
      "Epoch 968, cost 0.0195, m grad 2.12e-06, b grad -1.33e-05\n",
      "Epoch 969, cost 0.0195, m grad 1.94e-06, b grad -1.33e-05\n",
      "Epoch 970, cost 0.0195, m grad 1.88e-06, b grad -1.32e-05\n",
      "Epoch 971, cost 0.0195, m grad 1.7e-06, b grad -1.32e-05\n",
      "Epoch 972, cost 0.0195, m grad 1.22e-06, b grad -1.32e-05\n",
      "Epoch 973, cost 0.0195, m grad 2.06e-06, b grad -1.3e-05\n",
      "Epoch 974, cost 0.0195, m grad 1.58e-06, b grad -1.3e-05\n",
      "Epoch 975, cost 0.0195, m grad 1.37e-06, b grad -1.3e-05\n",
      "Epoch 976, cost 0.0195, m grad 2.24e-06, b grad -1.27e-05\n",
      "Epoch 977, cost 0.0195, m grad 2.18e-06, b grad -1.27e-05\n",
      "Epoch 978, cost 0.0195, m grad 2e-06, b grad -1.26e-05\n",
      "Epoch 979, cost 0.0195, m grad 1.94e-06, b grad -1.26e-05\n",
      "Epoch 980, cost 0.0195, m grad 1.88e-06, b grad -1.25e-05\n",
      "Epoch 981, cost 0.0195, m grad 1.7e-06, b grad -1.25e-05\n",
      "Epoch 982, cost 0.0195, m grad 1.22e-06, b grad -1.25e-05\n",
      "Epoch 983, cost 0.0195, m grad 2.06e-06, b grad -1.22e-05\n",
      "Epoch 984, cost 0.0195, m grad 1.58e-06, b grad -1.23e-05\n",
      "Epoch 985, cost 0.0195, m grad 1.37e-06, b grad -1.22e-05\n",
      "Epoch 986, cost 0.0195, m grad 2.24e-06, b grad -1.2e-05\n",
      "Epoch 987, cost 0.0195, m grad 2.18e-06, b grad -1.19e-05\n",
      "Epoch 988, cost 0.0195, m grad 2.12e-06, b grad -1.19e-05\n",
      "Epoch 989, cost 0.0195, m grad 1.94e-06, b grad -1.18e-05\n",
      "Epoch 990, cost 0.0195, m grad 1.88e-06, b grad -1.18e-05\n",
      "Epoch 991, cost 0.0195, m grad 1.7e-06, b grad -1.18e-05\n",
      "Epoch 992, cost 0.0195, m grad 1.22e-06, b grad -1.18e-05\n",
      "Epoch 993, cost 0.0195, m grad 2.06e-06, b grad -1.15e-05\n",
      "Epoch 994, cost 0.0195, m grad 1.58e-06, b grad -1.15e-05\n",
      "Epoch 995, cost 0.0195, m grad 1.37e-06, b grad -1.15e-05\n",
      "Epoch 996, cost 0.0195, m grad 2.24e-06, b grad -1.13e-05\n",
      "Epoch 997, cost 0.0195, m grad 2.18e-06, b grad -1.12e-05\n",
      "Epoch 998, cost 0.0195, m grad 2e-06, b grad -1.12e-05\n",
      "Epoch 999, cost 0.0195, m grad 1.94e-06, b grad -1.11e-05\n"
     ]
    }
   ],
   "source": [
    "epochs = 1000\n",
    "for epoch in range(epochs):\n",
    "    \n",
    "    optimizer.zero_grad() # Reset gradients to zero; else they accumulate\n",
    "    \n",
    "    yhat = regression(x, m, b) # Step 1\n",
    "    C = mse(yhat, y) # Step 2\n",
    "    \n",
    "    C.backward() # Step 3\n",
    "    optimizer.step() # Step 4\n",
    "    \n",
    "    print('Epoch {}, cost {}, m grad {}, b grad {}'.format(epoch, '%.3g' % C.item(), '%.3g' % m.grad.item(), '%.3g' % b.grad.item()))"
   ]
  },
  {
   "cell_type": "code",
   "execution_count": 96,
   "metadata": {
    "colab": {
     "base_uri": "https://localhost:8080/",
     "height": 265
    },
    "id": "fJeq0EFA09hG",
    "outputId": "cb5d5429-040b-4cc7-97aa-94c8f32def4d"
   },
   "outputs": [
    {
     "data": {
      "image/png": "[encoded data removed]",
      "text/plain": [
       "<Figure size 640x480 with 1 Axes>"
      ]
     },
     "metadata": {},
     "output_type": "display_data"
    }
   ],
   "source": [
    "regression_plot(x, y, m, b)"
   ]
  },
  {
   "cell_type": "code",
   "execution_count": 97,
   "metadata": {
    "colab": {
     "base_uri": "https://localhost:8080/"
    },
    "id": "S3B8PB5g09hG",
    "outputId": "aad1a876-75fb-4108-a5e2-f2780df48027"
   },
   "outputs": [
    {
     "data": {
      "text/plain": [
       "-0.4692818522453308"
      ]
     },
     "execution_count": 97,
     "metadata": {},
     "output_type": "execute_result"
    }
   ],
   "source": [
    "m.item()"
   ]
  },
  {
   "cell_type": "code",
   "execution_count": 98,
   "metadata": {
    "colab": {
     "base_uri": "https://localhost:8080/"
    },
    "id": "yYaCN83C09hG",
    "outputId": "0e6e4fcf-85cb-4baf-d281-e95fc89c8e47"
   },
   "outputs": [
    {
     "data": {
      "text/plain": [
       "1.7599809169769287"
      ]
     },
     "execution_count": 98,
     "metadata": {},
     "output_type": "execute_result"
    }
   ],
   "source": [
    "b.item()"
   ]
  },
  {
   "cell_type": "markdown",
   "metadata": {
    "id": "GfoFI9-x09hG"
   },
   "source": [
    "**N.B.**: The model doesn't perfectly approximate the slope (-0.5) and $y$-intercept (2.0) used to simulate the outcomes $y$ at the top of this notebook. This reflects the imperfectness of the sample of eight data points due to adding random noise during the simulation step. In the real world, the best solution would be to sample additional data points: The more data we sample, the more accurate our estimates of the true underlying parameters will be. "
   ]
  }
 ],
 "metadata": {
  "colab": {
   "include_colab_link": true,
   "name": "regression-in-pytorch.ipynb",
   "provenance": []
  },
  "kernelspec": {
   "display_name": "Python 3 (ipykernel)",
   "language": "python",
   "name": "python3"
  },
  "language_info": {
   "codemirror_mode": {
    "name": "ipython",
    "version": 3
   },
   "file_extension": ".py",
   "mimetype": "text/x-python",
   "name": "python",
   "nbconvert_exporter": "python",
   "pygments_lexer": "ipython3",
   "version": "3.8.13"
  }
 },
 "nbformat": 4,
 "nbformat_minor": 1
}
